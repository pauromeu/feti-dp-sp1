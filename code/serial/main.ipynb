{
 "cells": [
  {
   "cell_type": "code",
   "execution_count": null,
   "metadata": {},
   "outputs": [],
   "source": [
    "# Import modules\n",
    "import numpy as np\n",
    "\n",
    "# Import functions\n",
    "from local_global_matrices import *\n",
    "from assembly_K_matrices import *\n",
    "from RegularSudomainsMesh import RegularSubdomainsMesh\n",
    "from utils import *\n",
    "\n",
    "%load_ext autoreload\n",
    "%autoreload 2"
   ]
  },
  {
   "cell_type": "code",
   "execution_count": null,
   "metadata": {},
   "outputs": [],
   "source": [
    "# Import data\n",
    "d_dat = np.genfromtxt('data/d.dat')\n",
    "fP_dat = np.genfromtxt('data/fP.dat')\n",
    "fr_dat = np.genfromtxt('data/fr.dat')\n",
    "Ks = np.genfromtxt('data/localK.dat')\n",
    "solution = np.genfromtxt('data/solution.dat')"
   ]
  },
  {
   "cell_type": "code",
   "execution_count": null,
   "metadata": {},
   "outputs": [],
   "source": [
    "# Initial data\n",
    "# Number of subdomains\n",
    "Nsub_x = 4\n",
    "Nsub_y = 3\n",
    "\n",
    "# Number of remaining nodes in each subdomain\n",
    "Nr_x = 4\n",
    "Nr_y = 3\n",
    "\n",
    "# Local remaining and primal indices\n",
    "rs = np.array([1, 2, 4, 5, 6, 7, 9, 10])\n",
    "qs = np.array([0, 3, 8, 11])"
   ]
  },
  {
   "cell_type": "code",
   "execution_count": null,
   "metadata": {},
   "outputs": [],
   "source": [
    "# Transformation matrices A\n",
    "# Primal nodes local-global transformation matrices\n",
    "APq = create_APq_matrices(Nsub_x, Nsub_y)\n",
    "\n",
    "# Remaining nodes local-global transformation matrices\n",
    "ARr = create_ARr_matrices(Nsub_x, Nsub_y, Nr_x, Nr_y)"
   ]
  },
  {
   "cell_type": "code",
   "execution_count": null,
   "metadata": {},
   "outputs": [],
   "source": [
    "# Stiffness matrices K\n",
    "KRR = assembly_KRR_matrix(Ks, ARr, rs)\n",
    "KPP = assembly_KPP_matrix(Ks, APq, qs)\n",
    "KRP = assembly_KPR_matrix(Ks, APq, ARr, qs, rs)\n",
    "KPR = KRP.T"
   ]
  },
  {
   "cell_type": "code",
   "execution_count": null,
   "metadata": {},
   "outputs": [],
   "source": [
    "Nr = Nr_x*Nr_y - 4  # Number of local remaining nodes r\n",
    "NR = Nr*(Nsub_x*Nsub_y)  # Number of total remaining nodes R\n",
    "Nq = 4 # Number of primal nodes in each subdomain \n",
    "NP = (Nsub_x + 1)*(Nsub_y + 1) # Total number of primal nodes"
   ]
  },
  {
   "cell_type": "code",
   "execution_count": null,
   "metadata": {},
   "outputs": [],
   "source": [
    "NlambdaR = (Nsub_x*(Nr_x - 2)) * (Nsub_y - 1) + (Nsub_y*(Nr_y - 2)) * (Nsub_x - 1)\n",
    "NlambdaP_Dir = 4 # hardcoded\n",
    "NlambdaR_Dir = 3 # hardcoded\n",
    "\n",
    "\n",
    "\n",
    "Nlambda = NlambdaR + NlambdaR_Dir + NlambdaP_Dir"
   ]
  },
  {
   "cell_type": "code",
   "execution_count": null,
   "metadata": {},
   "outputs": [],
   "source": [
    "d = np.zeros(Nlambda)\n",
    "np.shape(d)"
   ]
  },
  {
   "cell_type": "code",
   "execution_count": null,
   "metadata": {},
   "outputs": [],
   "source": [
    "Nr = Nr_x*Nr_y - 4  # Number of local remaining nodes r\n",
    "NR = Nr*(Nsub_x*Nsub_y)  # Number of total remaining nodes R\n",
    "BlambdaR = np.zeros([Nlambda, NR])\n",
    "\n",
    "for j in range(Nsub_y):\n",
    "    for i in range(Nsub_x):\n",
    "        Brs = np.zeros([Nlambda, Nr])\n",
    "        # Local rs nodes in boundaries\n",
    "        rs_bot = np.arange(Nr_x - 2)\n",
    "        rs_top = np.arange(Nr_x - 2) + (Nr_y - 2)*Nr_x + (Nr_x - 2)\n",
    "        rs_left = np.arange(Nr_x - 2, (Nr_y - 2)*(Nr_x) + Nr_x - 2, Nr_x)\n",
    "        rs_right = rs_left + Nr_x - 1\n",
    "\n",
    "        Nrs_hor = Nr_x - 2\n",
    "        Nrs_ver = Nr_y - 2\n",
    "\n",
    "        # left\n",
    "        if i > 0:\n",
    "            lambda_left = np.arange((i-1) + j*(Nr_y - 2)*(Nsub_x - 1), Nrs_ver*(Nsub_x - 1) + (i-1) + j*(Nr_y - 2)*(Nsub_x - 1),step=Nsub_x - 1)\n",
    "            # print('left', lambda_left)\n",
    "            for lambda_, rs in zip(lambda_left, rs_left):\n",
    "                Brs[int(lambda_), int(rs)] = -1\n",
    "        # right\n",
    "        if i < Nsub_x - 1:\n",
    "            lambda_right = np.arange((i) + j*(Nr_y - 2)*(Nsub_x - 1), Nrs_ver*(Nsub_x - 1) + (i) + j*(Nr_y - 2)*(Nsub_x - 1),step=Nsub_x - 1)\n",
    "            # print('right', lambda_right)\n",
    "            for lambda_, rs in zip(lambda_right, rs_right):\n",
    "                Brs[int(lambda_), int(rs)] = 1\n",
    "        # bottom\n",
    "        NlambdaR_hor = (Nr_y - 2)*(Nsub_y)*(Nsub_x - 1)\n",
    "        if j > 0:\n",
    "            lambda_bot = np.arange(NlambdaR_hor + (j - 1)*(Nr_x - 2)*Nsub_x + i*(Nr_x - 2), NlambdaR_hor + (j - 1)*(Nr_x - 2)*Nsub_x + i*(Nr_x - 2) + (Nr_x - 2))\n",
    "            # print('bot', lambda_bot)\n",
    "            for lambda_, rs in zip(lambda_bot, rs_bot):\n",
    "                Brs[int(lambda_), int(rs)] = 1\n",
    "        # top\n",
    "        if j < Nsub_y - 1:\n",
    "            lambda_top = np.arange(NlambdaR_hor + (j)*(Nr_x - 2)*Nsub_x + i*(Nr_x - 2), NlambdaR_hor + (j)*(Nr_x - 2)*Nsub_x + i*(Nr_x - 2) + (Nr_x - 2))\n",
    "            # print('top', lambda_top)\n",
    "            for lambda_, rs in zip(lambda_top, rs_top):\n",
    "                Brs[int(lambda_), int(rs)] = -1\n",
    "\n",
    "        BlambdaR += Brs @ ARr[i + j*Nsub_x].T\n",
    "\n",
    "plot_sparse_matrix(BlambdaR)"
   ]
  },
  {
   "cell_type": "code",
   "execution_count": null,
   "metadata": {},
   "outputs": [],
   "source": [
    "# Dirichlet boundary conditions\n",
    "# Left wall remaining\n",
    "\n",
    "Nr_x = 4\n",
    "Nr_y = 3\n",
    "Nsub_x = 4\n",
    "Nsub_y = 3\n",
    "NlambdaR = 25\n",
    "BlambdaR_aux = np.zeros([Nlambda, NR])\n",
    "for j in range(Nsub_y):\n",
    "    Brs = np.zeros([Nlambda, Nr])\n",
    "    rs_left = np.arange(Nr_x - 2, (Nr_y - 2)*(Nr_x) + Nr_x - 2, Nr_x)\n",
    "    lambda_left = np.arange(NlambdaR + (Nr_y - 1)*j + 1, NlambdaR + (Nr_y - 1)*j + 1 + Nr_y - 2)\n",
    "    #d_left = np.arange(1 + j*(Nr_y - 1), 1+j*(Nr_y - 1) + Nr_y - 2)\n",
    "    for rs, lambda_ in zip(rs_left, lambda_left):\n",
    "        Brs[lambda_, rs] = 1\n",
    "    BlambdaR_aux += Brs @ ARr[j*Nsub_x].T\n",
    "    \n",
    "BlambdaR += BlambdaR_aux    \n",
    "\n"
   ]
  },
  {
   "cell_type": "code",
   "execution_count": null,
   "metadata": {},
   "outputs": [],
   "source": [
    "#Left wall primal\n",
    "BlambdaP = np.zeros([Nlambda, NP])\n",
    "\n",
    "for j in range(Nsub_y):\n",
    "    Bqs = np.zeros([Nlambda, Nq])\n",
    "    if j == 0:\n",
    "        Bqs[NlambdaR, 0] = 1\n",
    "    Bqs[NlambdaR + j*(Nr_y - 1) + Nr_y - 1, 2] = 1\n",
    "    BlambdaP += Bqs @ APq[j*Nsub_x].T\n",
    "    \n",
    "plot_sparse_matrix(KRP)"
   ]
  },
  {
   "cell_type": "code",
   "execution_count": null,
   "metadata": {},
   "outputs": [],
   "source": [
    "# Assembly d\n",
    "d[NlambdaR:]=d_dat"
   ]
  },
  {
   "cell_type": "code",
   "execution_count": null,
   "metadata": {},
   "outputs": [],
   "source": [
    "# Assembly f\n",
    "# fP\n",
    "fP = fP_dat\n",
    "\n",
    "# fR\n",
    "fR = np.zeros(NR)"
   ]
  },
  {
   "cell_type": "code",
   "execution_count": null,
   "metadata": {},
   "outputs": [],
   "source": [
    "NR"
   ]
  },
  {
   "cell_type": "code",
   "execution_count": null,
   "metadata": {},
   "outputs": [],
   "source": []
  },
  {
   "cell_type": "code",
   "execution_count": null,
   "metadata": {},
   "outputs": [],
   "source": [
    "for j in range(Nsub_y):\n",
    "    for i in range(Nsub_x):\n",
    "        Rs = []\n",
    "        for sj in range(Nr_y):\n",
    "            if sj == 0:\n",
    "                Rs = np.concatenate([Rs, np.arange(j*(Nsub_x*Nr) + i*(Nr_x - 2), j*(Nsub_x*Nr) + i*(Nr_x - 2) + Nr_x - 2)])\n",
    "            elif sj == Nr_y - 1:\n",
    "                Rs = np.concatenate([Rs, np.arange(j*(Nsub_x*Nr) + i*(Nr_x - 2) + Nsub_x*Nr_x*(Nr_y - 2) + Nsub_x*(Nr_x - 2),\n",
    "                                                   j*(Nsub_x*Nr) + i*(Nr_x - 2) + Nsub_x*Nr_x*(Nr_y - 2) + Nsub_x*(Nr_x - 2) + Nr_x - 2)])\n",
    "            else:\n",
    "                Rs = np.concatenate([Rs, np.arange(j*(Nsub_x*Nr) + i*(Nr_x) + Nsub_x*Nr_x*(sj - 1) + Nsub_x*(Nr_x - 2), \n",
    "                                                   j*(Nsub_x*Nr) + i*(Nr_x) + Nsub_x*Nr_x*(sj - 1) + Nsub_x*(Nr_x - 2) + Nr_x)])\n",
    "        fR[Rs.astype(int)] = fr_dat\n",
    "\n"
   ]
  },
  {
   "cell_type": "code",
   "execution_count": null,
   "metadata": {},
   "outputs": [],
   "source": [
    "print(np.shape(KPP), np.shape(KPR), np.shape(np.linalg.inv(KRR)), np.shape(KRP))"
   ]
  },
  {
   "cell_type": "code",
   "execution_count": null,
   "metadata": {},
   "outputs": [],
   "source": [
    "KRR_inv = np.linalg.inv(KRR)\n",
    "SPP = KPP - KPR @ KRR_inv @ KRP\n",
    "SPP_inv = np.linalg.inv(SPP)\n",
    "np.shape(KRR_inv)"
   ]
  },
  {
   "cell_type": "code",
   "execution_count": null,
   "metadata": {},
   "outputs": [],
   "source": [
    "fPH = fP - KPR @ KRR_inv @ fR"
   ]
  },
  {
   "cell_type": "code",
   "execution_count": null,
   "metadata": {},
   "outputs": [],
   "source": [
    "dH = -d + BlambdaP @ SPP_inv @ fPH + BlambdaR @ KRR_inv @ fR - BlambdaR @ KRR_inv @ KRP @ SPP_inv @ fPH\n",
    "np.shape(dH)"
   ]
  },
  {
   "cell_type": "code",
   "execution_count": null,
   "metadata": {},
   "outputs": [],
   "source": [
    "F = -BlambdaP @ SPP_inv @ KPR @ KRR_inv @ BlambdaR.T + BlambdaP @ SPP_inv @ BlambdaP.T + BlambdaR @ KRR_inv @ KRP @ SPP_inv @ KPR @ KRR_inv @ BlambdaR.T - BlambdaR @ KRR_inv @ KRP @ SPP_inv @ BlambdaP.T + BlambdaR @ KRR_inv @ BlambdaR.T\n",
    "np.shape(F)\n",
    "plot_sparse_matrix(F)"
   ]
  },
  {
   "cell_type": "code",
   "execution_count": null,
   "metadata": {},
   "outputs": [],
   "source": [
    "lambda_ = np.linalg.solve(F, dH)"
   ]
  },
  {
   "cell_type": "code",
   "execution_count": null,
   "metadata": {},
   "outputs": [],
   "source": [
    "lambda_"
   ]
  },
  {
   "cell_type": "code",
   "execution_count": null,
   "metadata": {},
   "outputs": [],
   "source": [
    "uP = SPP_inv @ fPH + SPP_inv @ KPR @ KRR_inv @ BlambdaR.T @ lambda_ - SPP_inv @ BlambdaP.T @ lambda_\n",
    "uP"
   ]
  },
  {
   "cell_type": "code",
   "execution_count": null,
   "metadata": {},
   "outputs": [],
   "source": [
    "uR = KRR_inv @ (fR - KRP @ uP - BlambdaR.T @ lambda_)\n",
    "uR"
   ]
  },
  {
   "cell_type": "code",
   "execution_count": null,
   "metadata": {},
   "outputs": [],
   "source": [
    "     \n",
    "    \n",
    "   \n",
    "\n",
    "mesh = RegularSubdomainsMesh(4, 3, 4, 3)\n",
    "\n"
   ]
  }
 ],
 "metadata": {
  "kernelspec": {
   "display_name": "ada",
   "language": "python",
   "name": "python3"
  },
  "language_info": {
   "codemirror_mode": {
    "name": "ipython",
    "version": 3
   },
   "file_extension": ".py",
   "mimetype": "text/x-python",
   "name": "python",
   "nbconvert_exporter": "python",
   "pygments_lexer": "ipython3",
   "version": "3.9.13"
  },
  "orig_nbformat": 4,
  "vscode": {
   "interpreter": {
    "hash": "a4bb9c81f8eab16a3a9439dae75e7221139fb6714345d5c49c732ff789ca1486"
   }
  }
 },
 "nbformat": 4,
 "nbformat_minor": 2
}
