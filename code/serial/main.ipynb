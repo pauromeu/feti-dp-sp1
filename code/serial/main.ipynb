{
 "cells": [
  {
   "cell_type": "code",
   "execution_count": 61,
   "metadata": {},
   "outputs": [
    {
     "name": "stdout",
     "output_type": "stream",
     "text": [
      "The autoreload extension is already loaded. To reload it, use:\n",
      "  %reload_ext autoreload\n"
     ]
    }
   ],
   "source": [
    "# Import modules\n",
    "import numpy as np\n",
    "\n",
    "# Import functions\n",
    "from local_global_matrices import *\n",
    "from assembly_K_matrices import *\n",
    "from assembly_B_matrices import *\n",
    "from RegularSudomainsMesh import RegularSubdomainsMesh\n",
    "from utils import *\n",
    "\n",
    "%load_ext autoreload\n",
    "%autoreload 2"
   ]
  },
  {
   "cell_type": "code",
   "execution_count": 2,
   "metadata": {},
   "outputs": [],
   "source": [
    "# Import data\n",
    "d_dat = np.genfromtxt('data/d.dat')\n",
    "fP_dat = np.genfromtxt('data/fP.dat')\n",
    "fr_dat = np.genfromtxt('data/fr.dat')\n",
    "Ks = np.genfromtxt('data/localK.dat')\n",
    "solution = np.genfromtxt('data/solution.dat')"
   ]
  },
  {
   "cell_type": "code",
   "execution_count": 3,
   "metadata": {},
   "outputs": [],
   "source": [
    "# Initial data\n",
    "# Number of subdomains\n",
    "Nsub_x = 4\n",
    "Nsub_y = 3\n",
    "\n",
    "# Number of remaining nodes in each subdomain\n",
    "Nr_x = 4\n",
    "Nr_y = 3\n",
    "\n",
    "# Local remaining and primal indices\n",
    "rs = np.array([1, 2, 4, 5, 6, 7, 9, 10])\n",
    "qs = np.array([0, 3, 8, 11])"
   ]
  },
  {
   "cell_type": "code",
   "execution_count": 4,
   "metadata": {},
   "outputs": [],
   "source": [
    "# Transformation matrices A\n",
    "# Primal nodes local-global transformation matrices\n",
    "APq = create_APq_matrices(Nsub_x, Nsub_y)\n",
    "\n",
    "# Remaining nodes local-global transformation matrices\n",
    "ARr = create_ARr_matrices(Nsub_x, Nsub_y, Nr_x, Nr_y)"
   ]
  },
  {
   "cell_type": "code",
   "execution_count": 5,
   "metadata": {},
   "outputs": [],
   "source": [
    "# Stiffness matrices K\n",
    "KRR = assembly_KRR_matrix(Ks, ARr, rs)\n",
    "KPP = assembly_KPP_matrix(Ks, APq, qs)\n",
    "KRP = assembly_KRP_matrix(Ks, APq, ARr, qs, rs)\n",
    "KPR = KRP.T"
   ]
  },
  {
   "cell_type": "code",
   "execution_count": 6,
   "metadata": {},
   "outputs": [],
   "source": [
    "Nr = Nr_x*Nr_y - 4  # Number of local remaining nodes r\n",
    "NR = Nr*(Nsub_x*Nsub_y)  # Number of total remaining nodes R\n",
    "Nq = 4 # Number of primal nodes in each subdomain \n",
    "NP = (Nsub_x + 1)*(Nsub_y + 1) # Total number of primal nodes"
   ]
  },
  {
   "cell_type": "code",
   "execution_count": 7,
   "metadata": {},
   "outputs": [],
   "source": [
    "NlambdaR = (Nsub_x*(Nr_x - 2)) * (Nsub_y - 1) + (Nsub_y*(Nr_y - 2)) * (Nsub_x - 1)\n",
    "NlambdaP_Dir = 4 # hardcoded\n",
    "NlambdaR_Dir = 3 # hardcoded\n",
    "\n",
    "Nlambda = NlambdaR + NlambdaR_Dir + NlambdaP_Dir"
   ]
  },
  {
   "cell_type": "code",
   "execution_count": 65,
   "metadata": {},
   "outputs": [],
   "source": [
    "BlambdaR = assembly_BR_matrix(Nr_x, Nr_y, Nsub_x, Nsub_y, Nlambda, ARr)"
   ]
  },
  {
   "cell_type": "code",
   "execution_count": 57,
   "metadata": {},
   "outputs": [],
   "source": [
    "# Dirichlet boundary conditions\n",
    "# Left wall remaining\n",
    "BlambdaR = assembly_Dirichlet_BR_matrix(Nlambda, NR, Nsub_y, Nr, Nr_x, Nr_y, NlambdaR, Nsub_x, ARr, BlambdaR)\n",
    "\n",
    "#Left wall primal\n",
    "BlambdaP = assembly_Dirichlet_BP_matrix(Nsub_x, Nsub_y, Nr_y, Nlambda, NP, Nq, NlambdaR, APq)"
   ]
  },
  {
   "cell_type": "code",
   "execution_count": 63,
   "metadata": {},
   "outputs": [],
   "source": [
    "# Assembly d\n",
    "d[NlambdaR:]=d_dat"
   ]
  },
  {
   "cell_type": "code",
   "execution_count": 64,
   "metadata": {},
   "outputs": [],
   "source": [
    "# Assembly f\n",
    "# fP\n",
    "fP = fP_dat\n",
    "\n",
    "\n"
   ]
  },
  {
   "cell_type": "code",
   "execution_count": 15,
   "metadata": {},
   "outputs": [],
   "source": [
    "def assembly_fR_vector(fR):\n",
    "    fR = np.zeros(NR)\n",
    "    for j in range(Nsub_y):\n",
    "        for i in range(Nsub_x):\n",
    "            Rs = []\n",
    "            for sj in range(Nr_y):\n",
    "                if sj == 0:\n",
    "                    Rs = np.concatenate([Rs, np.arange(j*(Nsub_x*Nr) + i*(Nr_x - 2), j*(Nsub_x*Nr) + i*(Nr_x - 2) + Nr_x - 2)])\n",
    "                elif sj == Nr_y - 1:\n",
    "                    Rs = np.concatenate([Rs, np.arange(j*(Nsub_x*Nr) + i*(Nr_x - 2) + Nsub_x*Nr_x*(Nr_y - 2) + Nsub_x*(Nr_x - 2),\n",
    "                                                    j*(Nsub_x*Nr) + i*(Nr_x - 2) + Nsub_x*Nr_x*(Nr_y - 2) + Nsub_x*(Nr_x - 2) + Nr_x - 2)])\n",
    "                else:\n",
    "                    Rs = np.concatenate([Rs, np.arange(j*(Nsub_x*Nr) + i*(Nr_x) + Nsub_x*Nr_x*(sj - 1) + Nsub_x*(Nr_x - 2), \n",
    "                                                    j*(Nsub_x*Nr) + i*(Nr_x) + Nsub_x*Nr_x*(sj - 1) + Nsub_x*(Nr_x - 2) + Nr_x)])\n",
    "            fR[Rs.astype(int)] = fr_dat\n",
    "    return fR\n",
    "\n"
   ]
  },
  {
   "cell_type": "code",
   "execution_count": 16,
   "metadata": {},
   "outputs": [
    {
     "name": "stdout",
     "output_type": "stream",
     "text": [
      "(20, 20) (20, 96) (96, 96) (96, 20)\n"
     ]
    }
   ],
   "source": [
    "print(np.shape(KPP), np.shape(KPR), np.shape(np.linalg.inv(KRR)), np.shape(KRP))"
   ]
  },
  {
   "cell_type": "code",
   "execution_count": 17,
   "metadata": {},
   "outputs": [
    {
     "data": {
      "text/plain": [
       "(96, 96)"
      ]
     },
     "execution_count": 17,
     "metadata": {},
     "output_type": "execute_result"
    }
   ],
   "source": [
    "KRR_inv = np.linalg.inv(KRR)\n",
    "SPP = KPP - KPR @ KRR_inv @ KRP\n",
    "SPP_inv = np.linalg.inv(SPP)\n",
    "np.shape(KRR_inv)"
   ]
  },
  {
   "cell_type": "code",
   "execution_count": 46,
   "metadata": {},
   "outputs": [
    {
     "data": {
      "image/png": "[encoded data removed]",
      "text/plain": [
       "<Figure size 432x288 with 2 Axes>"
      ]
     },
     "metadata": {
      "needs_background": "light"
     },
     "output_type": "display_data"
    },
    {
     "data": {
      "text/plain": [
       "array([[ 1.44444444, -0.38888889,  0.        , ...,  0.        ,\n",
       "         0.        ,  0.        ],\n",
       "       [-0.38888889,  1.44444444,  0.        , ...,  0.        ,\n",
       "         0.        ,  0.        ],\n",
       "       [ 0.        ,  0.        ,  1.44444444, ...,  0.        ,\n",
       "         0.        ,  0.        ],\n",
       "       ...,\n",
       "       [ 0.        ,  0.        ,  0.        , ...,  1.44444444,\n",
       "         0.        ,  0.        ],\n",
       "       [ 0.        ,  0.        ,  0.        , ...,  0.        ,\n",
       "         1.44444444, -0.38888889],\n",
       "       [ 0.        ,  0.        ,  0.        , ...,  0.        ,\n",
       "        -0.38888889,  1.44444444]])"
      ]
     },
     "execution_count": 46,
     "metadata": {},
     "output_type": "execute_result"
    }
   ],
   "source": [
    "plot_sparse_matrix(KRR)\n",
    "KRR"
   ]
  },
  {
   "cell_type": "code",
   "execution_count": 18,
   "metadata": {},
   "outputs": [],
   "source": [
    "fPH = fP - KPR @ KRR_inv @ fR"
   ]
  },
  {
   "cell_type": "code",
   "execution_count": 19,
   "metadata": {},
   "outputs": [
    {
     "data": {
      "text/plain": [
       "(32,)"
      ]
     },
     "execution_count": 19,
     "metadata": {},
     "output_type": "execute_result"
    }
   ],
   "source": [
    "dH = -d \\\n",
    "    + BlambdaP @ SPP_inv @ fPH \\\n",
    "    + BlambdaR @ KRR_inv @ fR \\\n",
    "    - BlambdaR @ KRR_inv @ KRP @ SPP_inv @ fPH\n",
    "\n",
    "np.shape(dH)"
   ]
  },
  {
   "cell_type": "code",
   "execution_count": 50,
   "metadata": {},
   "outputs": [
    {
     "data": {
      "image/png": "[encoded data removed]",
      "text/plain": [
       "<Figure size 432x288 with 2 Axes>"
      ]
     },
     "metadata": {
      "needs_background": "light"
     },
     "output_type": "display_data"
    },
    {
     "data": {
      "text/plain": [
       "7.337689047883407e+22"
      ]
     },
     "execution_count": 50,
     "metadata": {},
     "output_type": "execute_result"
    }
   ],
   "source": [
    "F = BlambdaR @ KRR_inv @ BlambdaR.T \\\n",
    "    + BlambdaR @ KRR_inv @ KRP @ SPP_inv @ KPR @ KRR_inv @ BlambdaR.T \\\n",
    "    + BlambdaP @ SPP_inv @ BlambdaP.T \\\n",
    "    - BlambdaP @ SPP_inv @ KPR @ KRR_inv @ BlambdaR.T \\\n",
    "    - BlambdaR @ KRR_inv @ KRP @ SPP_inv @ BlambdaP.T\n",
    "    \n",
    "np.shape(F)\n",
    "plot_sparse_matrix(F)\n",
    "np.linalg.det(F)"
   ]
  },
  {
   "cell_type": "code",
   "execution_count": 21,
   "metadata": {},
   "outputs": [],
   "source": [
    "lambda_ = np.linalg.solve(F, dH)"
   ]
  },
  {
   "cell_type": "code",
   "execution_count": 22,
   "metadata": {},
   "outputs": [
    {
     "data": {
      "text/plain": [
       "array([-0.5728071 , -0.32012243, -0.14662895, -0.38024098, -0.24855982,\n",
       "       -0.12523919, -0.18251982, -0.18138492, -0.10255132,  0.25687264,\n",
       "        0.19117563,  0.10022751,  0.06134957,  0.03664798,  0.02276031,\n",
       "        0.01155264,  0.00904929,  0.28190161,  0.20441327,  0.09354643,\n",
       "        0.07151719,  0.03394658,  0.02662063,  0.01191943,  0.01102942,\n",
       "        0.72125411,  0.96613501,  0.6906067 ,  0.56012483,  0.2842102 ,\n",
       "       -0.03435292, -0.18797794])"
      ]
     },
     "execution_count": 22,
     "metadata": {},
     "output_type": "execute_result"
    }
   ],
   "source": [
    "lambda_"
   ]
  },
  {
   "cell_type": "code",
   "execution_count": 23,
   "metadata": {},
   "outputs": [
    {
     "data": {
      "text/plain": [
       "array([0.875  , 2.75   , 3.6875 , 4.375  , 4.34375, 1.9375 , 3.     ,\n",
       "       3.8125 , 4.21875, 4.46875, 2.90625, 3.4375 , 3.9375 , 4.3125 ,\n",
       "       4.4375 , 3.875  , 3.6875 , 4.0625 , 4.34375, 4.375  ])"
      ]
     },
     "execution_count": 23,
     "metadata": {},
     "output_type": "execute_result"
    }
   ],
   "source": [
    "uP = SPP_inv @ fPH + SPP_inv @ KPR @ KRR_inv @ BlambdaR.T @ lambda_ - SPP_inv @ BlambdaP.T @ lambda_\n",
    "uP"
   ]
  },
  {
   "cell_type": "code",
   "execution_count": 24,
   "metadata": {},
   "outputs": [
    {
     "data": {
      "text/plain": [
       "array([1.78590397, 2.39202086, 3.22802862, 3.34396906, 4.16990749,\n",
       "       4.29323997, 4.31766814, 4.39934448, 1.39077087, 1.97948151,\n",
       "       2.64722356, 3.04614357, 2.84729466, 3.22522568, 3.48384941,\n",
       "       3.62134656, 4.04513916, 4.22907076, 4.11114708, 4.30926138,\n",
       "       4.24661906, 4.37795435, 4.46223319, 4.49410528, 2.29730473,\n",
       "       2.71133688, 3.19016821, 3.56615249, 4.3268358 , 4.34884319,\n",
       "       4.35935968, 4.37717056, 2.33973807, 2.74870635, 3.5442061 ,\n",
       "       3.80487595, 3.99384971, 4.17576979, 4.21880694, 4.3616844 ,\n",
       "       2.3970872 , 2.93637399, 2.98211694, 3.30818014, 3.32939678,\n",
       "       3.56261023, 3.93609284, 4.10828852, 3.97331918, 4.11496965,\n",
       "       4.23244423, 4.28727208, 4.26427683, 4.28908262, 4.33877621,\n",
       "       4.30688805, 3.1963817 , 3.24599887, 3.7467917 , 4.09923943,\n",
       "       4.15021574, 4.22681475, 4.33411172, 4.31888826, 3.25058978,\n",
       "       3.44007139, 3.64024677, 3.76335627, 4.06717384, 4.13998512,\n",
       "       4.3789752 , 4.45546612, 3.47999327, 3.50895369, 3.43383632,\n",
       "       3.61427752, 3.69332557, 3.96232782, 3.73393761, 4.03227334,\n",
       "       4.05242425, 4.1534985 , 4.22640822, 4.35370929, 4.31249662,\n",
       "       4.3863873 , 4.4640079 , 4.36725964, 3.81458265, 3.74304789,\n",
       "       3.81819277, 3.99178632, 4.16036156, 4.26042686, 4.32758844,\n",
       "       4.4348439 ])"
      ]
     },
     "execution_count": 24,
     "metadata": {},
     "output_type": "execute_result"
    }
   ],
   "source": [
    "uR = KRR_inv @ (fR - KRP @ uP - BlambdaR.T @ lambda_)\n",
    "uR = KRR_inv @ fR \\\n",
    "    + KRR_inv @ KRP @ SPP_inv @ KPR @ KRR_inv @ fR \\\n",
    "    - KRR_inv @ KRP @ SPP_inv @ fP \\\n",
    "    - KRR_inv @ KRP @ SPP_inv @ KPR @ KRR_inv @ BlambdaR.T @ lambda_ \\\n",
    "    + KRR_inv @ KRP @ SPP_inv @ BlambdaP.T @ lambda_ \\\n",
    "    - KRR_inv @ BlambdaR.T @ lambda_\n",
    "uR"
   ]
  },
  {
   "cell_type": "code",
   "execution_count": 27,
   "metadata": {},
   "outputs": [
    {
     "data": {
      "text/plain": [
       "20"
      ]
     },
     "execution_count": 27,
     "metadata": {},
     "output_type": "execute_result"
    }
   ],
   "source": [
    "     \n",
    "    \n",
    "   \n",
    "\n",
    "mesh = RegularSubdomainsMesh(4, 3, 4, 3)\n",
    "mesh.NP\n",
    "\n"
   ]
  },
  {
   "cell_type": "code",
   "execution_count": 28,
   "metadata": {},
   "outputs": [
    {
     "data": {
      "image/png": "[encoded data removed]",
      "text/plain": [
       "<Figure size 432x288 with 2 Axes>"
      ]
     },
     "metadata": {
      "needs_background": "light"
     },
     "output_type": "display_data"
    },
    {
     "data": {
      "image/png": "[encoded data removed]",
      "text/plain": [
       "<Figure size 432x288 with 2 Axes>"
      ]
     },
     "metadata": {
      "needs_background": "light"
     },
     "output_type": "display_data"
    }
   ],
   "source": [
    "plot_sparse_matrix(BlambdaP)\n",
    "plot_sparse_matrix(BlambdaR)"
   ]
  },
  {
   "cell_type": "code",
   "execution_count": 267,
   "metadata": {},
   "outputs": [
    {
     "data": {
      "text/plain": [
       "array([0. , 0. , 0. , 0. , 0. , 0. , 0. , 0. , 0. , 0. , 0. , 0. , 0. ,\n",
       "       0. , 0. , 0. , 0. , 0. , 0. , 0. , 0. , 0. , 0. , 0. , 0. , 1. ,\n",
       "       1.5, 2. , 2.5, 3. , 3.5, 4. ])"
      ]
     },
     "execution_count": 267,
     "metadata": {},
     "output_type": "execute_result"
    }
   ],
   "source": [
    "d"
   ]
  },
  {
   "cell_type": "code",
   "execution_count": 268,
   "metadata": {},
   "outputs": [
    {
     "data": {
      "text/plain": [
       "array([0.02083333, 0.02083333, 0.02083333, 0.02083333, 0.02083333,\n",
       "       0.02083333, 0.02083333, 0.02083333, 0.02083333, 0.04166667,\n",
       "       0.04166667, 0.02083333, 0.02083333, 0.04166667, 0.04166667,\n",
       "       0.02083333, 0.02083333, 0.04166667, 0.04166667, 0.02083333,\n",
       "       0.02083333, 0.04166667, 0.04166667, 0.02083333, 0.02083333,\n",
       "       0.02083333, 0.02083333, 0.02083333, 0.02083333, 0.02083333,\n",
       "       0.02083333, 0.02083333, 0.02083333, 0.02083333, 0.02083333,\n",
       "       0.02083333, 0.02083333, 0.02083333, 0.02083333, 0.02083333,\n",
       "       0.02083333, 0.04166667, 0.04166667, 0.02083333, 0.02083333,\n",
       "       0.04166667, 0.04166667, 0.02083333, 0.02083333, 0.04166667,\n",
       "       0.04166667, 0.02083333, 0.02083333, 0.04166667, 0.04166667,\n",
       "       0.02083333, 0.02083333, 0.02083333, 0.02083333, 0.02083333,\n",
       "       0.02083333, 0.02083333, 0.02083333, 0.02083333, 0.02083333,\n",
       "       0.02083333, 0.02083333, 0.02083333, 0.02083333, 0.02083333,\n",
       "       0.02083333, 0.02083333, 0.02083333, 0.04166667, 0.04166667,\n",
       "       0.02083333, 0.02083333, 0.04166667, 0.04166667, 0.02083333,\n",
       "       0.02083333, 0.04166667, 0.04166667, 0.02083333, 0.02083333,\n",
       "       0.04166667, 0.04166667, 0.02083333, 0.02083333, 0.02083333,\n",
       "       0.02083333, 0.02083333, 0.02083333, 0.02083333, 0.02083333,\n",
       "       0.02083333])"
      ]
     },
     "execution_count": 268,
     "metadata": {},
     "output_type": "execute_result"
    }
   ],
   "source": [
    "fR"
   ]
  },
  {
   "cell_type": "code",
   "execution_count": 269,
   "metadata": {},
   "outputs": [
    {
     "data": {
      "text/plain": [
       "array([0.01041667, 0.02083333, 0.02083333, 0.02083333, 0.01041667,\n",
       "       0.02083333, 0.04166667, 0.04166667, 0.04166667, 0.02083333,\n",
       "       0.02083333, 0.04166667, 0.04166667, 0.04166667, 0.02083333,\n",
       "       0.01041667, 0.02083333, 0.02083333, 0.02083333, 0.01041667])"
      ]
     },
     "execution_count": 269,
     "metadata": {},
     "output_type": "execute_result"
    }
   ],
   "source": [
    "fP"
   ]
  },
  {
   "cell_type": "code",
   "execution_count": 270,
   "metadata": {},
   "outputs": [
    {
     "data": {
      "text/plain": [
       "array([-0.0390625 ,  0.0234375 ,  0.18576389, -0.13802083,  0.20920139,\n",
       "        0.0234375 , -0.07725694,  0.03038194,  0.0390625 , -0.05381944,\n",
       "        0.47135417,  0.08506944,  0.01909722,  0.17795139,  0.09722222,\n",
       "       -0.0859375 ,  0.01388889,  0.51649306, -0.45572917, -0.00173611,\n",
       "       -0.01909722,  0.08333333,  0.16232639,  0.09635417, -0.09461806,\n",
       "       -0.00260417, -0.15277778,  0.08767361,  0.32899306,  0.08072917,\n",
       "        0.04079861, -0.07552083,  0.03472222, -0.00434028,  0.14756944,\n",
       "        0.14496528, -0.03559028,  0.06163194, -0.09982639,  0.06770833,\n",
       "       -0.12586806,  0.69270833, -0.23263889,  0.09288194, -0.03559028,\n",
       "       -0.1328125 ,  0.41232639, -0.01475694,  0.06163194,  0.125     ,\n",
       "        0.13715278, -0.02170139,  0.09722222, -0.04079861,  0.02604167,\n",
       "       -0.04079861,  0.16319444, -0.18489583, -0.03819444,  0.30989583,\n",
       "        0.05121528, -0.01128472,  0.0234375 , -0.046875  ,  0.20746528,\n",
       "        0.19097222,  0.08940972, -0.11892361,  0.00868056, -0.08940972,\n",
       "        0.00173611,  0.10503472, -0.09982639,  0.109375  , -0.34548611,\n",
       "       -0.02864583, -0.05989583,  0.7109375 , -0.58246528,  0.16059028,\n",
       "        0.05555556,  0.09461806, -0.03732639,  0.10590278,  0.01649306,\n",
       "       -0.00694444,  0.25520833, -0.12934028,  0.24565972,  0.10763889,\n",
       "        0.06684028,  0.02170139,  0.01388889,  0.00954861, -0.08854167,\n",
       "        0.10850694])"
      ]
     },
     "execution_count": 270,
     "metadata": {},
     "output_type": "execute_result"
    }
   ],
   "source": [
    "BlambdaR.T @ lambda_ + KRP @ uP + KRR @ uR"
   ]
  },
  {
   "cell_type": "code",
   "execution_count": 271,
   "metadata": {},
   "outputs": [
    {
     "data": {
      "text/plain": [
       "array([0.02083333, 0.02083333, 0.02083333, 0.02083333, 0.02083333,\n",
       "       0.02083333, 0.02083333, 0.02083333, 0.02083333, 0.04166667,\n",
       "       0.04166667, 0.02083333, 0.02083333, 0.04166667, 0.04166667,\n",
       "       0.02083333, 0.02083333, 0.04166667, 0.04166667, 0.02083333,\n",
       "       0.02083333, 0.04166667, 0.04166667, 0.02083333, 0.02083333,\n",
       "       0.02083333, 0.02083333, 0.02083333, 0.02083333, 0.02083333,\n",
       "       0.02083333, 0.02083333, 0.02083333, 0.02083333, 0.02083333,\n",
       "       0.02083333, 0.02083333, 0.02083333, 0.02083333, 0.02083333,\n",
       "       0.02083333, 0.04166667, 0.04166667, 0.02083333, 0.02083333,\n",
       "       0.04166667, 0.04166667, 0.02083333, 0.02083333, 0.04166667,\n",
       "       0.04166667, 0.02083333, 0.02083333, 0.04166667, 0.04166667,\n",
       "       0.02083333, 0.02083333, 0.02083333, 0.02083333, 0.02083333,\n",
       "       0.02083333, 0.02083333, 0.02083333, 0.02083333, 0.02083333,\n",
       "       0.02083333, 0.02083333, 0.02083333, 0.02083333, 0.02083333,\n",
       "       0.02083333, 0.02083333, 0.02083333, 0.04166667, 0.04166667,\n",
       "       0.02083333, 0.02083333, 0.04166667, 0.04166667, 0.02083333,\n",
       "       0.02083333, 0.04166667, 0.04166667, 0.02083333, 0.02083333,\n",
       "       0.04166667, 0.04166667, 0.02083333, 0.02083333, 0.02083333,\n",
       "       0.02083333, 0.02083333, 0.02083333, 0.02083333, 0.02083333,\n",
       "       0.02083333])"
      ]
     },
     "execution_count": 271,
     "metadata": {},
     "output_type": "execute_result"
    }
   ],
   "source": [
    "fR"
   ]
  },
  {
   "cell_type": "code",
   "execution_count": 272,
   "metadata": {},
   "outputs": [
    {
     "data": {
      "text/plain": [
       "array([-0.0174999 , -0.17025262, -0.16793745,  0.14291245, -0.06022913,\n",
       "        0.01597163, -0.21150344, -0.34354657, -0.13110147,  0.12274727,\n",
       "       -0.18925591, -0.1891647 , -0.18483252,  0.10703192,  0.05963869,\n",
       "       -0.04327133, -0.08194167,  0.07410994,  0.06507361, -0.05562938])"
      ]
     },
     "execution_count": 272,
     "metadata": {},
     "output_type": "execute_result"
    }
   ],
   "source": [
    "BlambdaP.T @ lambda_ + KPP @ uP + KPR @ uR "
   ]
  },
  {
   "cell_type": "code",
   "execution_count": 273,
   "metadata": {},
   "outputs": [
    {
     "data": {
      "text/plain": [
       "array([0.01041667, 0.02083333, 0.02083333, 0.02083333, 0.01041667,\n",
       "       0.02083333, 0.04166667, 0.04166667, 0.04166667, 0.02083333,\n",
       "       0.02083333, 0.04166667, 0.04166667, 0.04166667, 0.02083333,\n",
       "       0.01041667, 0.02083333, 0.02083333, 0.02083333, 0.01041667])"
      ]
     },
     "execution_count": 273,
     "metadata": {},
     "output_type": "execute_result"
    }
   ],
   "source": [
    "fP"
   ]
  },
  {
   "cell_type": "code",
   "execution_count": 276,
   "metadata": {},
   "outputs": [
    {
     "data": {
      "text/plain": [
       "array([ 0.19884891, -0.42379261,  0.06264231, -0.02121664,  0.13496934,\n",
       "        0.02299525, -0.07904804, -0.02015091,  0.04121267,  0.04243335,\n",
       "        0.03736947,  0.3540379 ,  0.23872345, -0.33298609, -0.1730734 ,\n",
       "       -0.14055274, -0.01548615,  0.05420808,  0.19407252, -0.10654493,\n",
       "       -0.33588317, -0.0830419 , -0.08682964,  0.04486348,  0.13657785,\n",
       "        0.875     ,  1.39077087,  1.9375    ,  2.3970872 ,  2.90625   ,\n",
       "        3.47999327,  3.875     ])"
      ]
     },
     "execution_count": 276,
     "metadata": {},
     "output_type": "execute_result"
    }
   ],
   "source": [
    "BlambdaP @ uP + BlambdaR @ uR"
   ]
  },
  {
   "cell_type": "code",
   "execution_count": 275,
   "metadata": {},
   "outputs": [
    {
     "data": {
      "text/plain": [
       "array([0. , 0. , 0. , 0. , 0. , 0. , 0. , 0. , 0. , 0. , 0. , 0. , 0. ,\n",
       "       0. , 0. , 0. , 0. , 0. , 0. , 0. , 0. , 0. , 0. , 0. , 0. , 1. ,\n",
       "       1.5, 2. , 2.5, 3. , 3.5, 4. ])"
      ]
     },
     "execution_count": 275,
     "metadata": {},
     "output_type": "execute_result"
    }
   ],
   "source": [
    "d"
   ]
  }
 ],
 "metadata": {
  "kernelspec": {
   "display_name": "ada",
   "language": "python",
   "name": "python3"
  },
  "language_info": {
   "codemirror_mode": {
    "name": "ipython",
    "version": 3
   },
   "file_extension": ".py",
   "mimetype": "text/x-python",
   "name": "python",
   "nbconvert_exporter": "python",
   "pygments_lexer": "ipython3",
   "version": "3.9.13"
  },
  "orig_nbformat": 4,
  "vscode": {
   "interpreter": {
    "hash": "a4bb9c81f8eab16a3a9439dae75e7221139fb6714345d5c49c732ff789ca1486"
   }
  }
 },
 "nbformat": 4,
 "nbformat_minor": 2
}
