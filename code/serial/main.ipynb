{
 "cells": [
  {
   "cell_type": "code",
   "execution_count": 1,
   "metadata": {},
   "outputs": [],
   "source": [
    "# Import modules\n",
    "import numpy as np\n",
    "\n",
    "# Import functions\n",
    "from local_global_matrices import *\n",
    "from assembly_K_matrices import *\n",
    "\n",
    "%load_ext autoreload\n",
    "%autoreload 2"
   ]
  },
  {
   "cell_type": "code",
   "execution_count": 2,
   "metadata": {},
   "outputs": [],
   "source": [
    "# Import data\n",
    "d = np.fromfile('data/d.dat')\n",
    "fP = np.fromfile('data/fP.dat')\n",
    "fr = np.fromfile('data/fr.dat')\n",
    "Ks = np.genfromtxt('data/localK.dat')\n",
    "solution = np.fromfile('data/solution.dat')"
   ]
  },
  {
   "cell_type": "code",
   "execution_count": 3,
   "metadata": {},
   "outputs": [],
   "source": [
    "# Initial data\n",
    "# Number of subdomains\n",
    "Nsub_x = 4\n",
    "Nsub_y = 3\n",
    "\n",
    "# Number of remaining nodes in each subdomain\n",
    "Nr_x = 4\n",
    "Nr_y = 3\n",
    "\n",
    "# Local remaining and primal indices\n",
    "rs = np.array([1, 2, 4, 5, 6, 7, 9, 10])\n",
    "qs = np.array([0, 3, 8, 11])"
   ]
  },
  {
   "cell_type": "code",
   "execution_count": 4,
   "metadata": {},
   "outputs": [],
   "source": [
    "# Transformation matrices A\n",
    "# Primal nodes local-global transformation matrices\n",
    "APq = create_APq_matrices(Nsub_x, Nsub_y)\n",
    "\n",
    "# Remaining nodes local-global transformation matrices\n",
    "ARr = create_ARr_matrices(Nsub_x, Nsub_y, Nr_x, Nr_y)"
   ]
  },
  {
   "cell_type": "code",
   "execution_count": 5,
   "metadata": {},
   "outputs": [],
   "source": [
    "# Stiffness matrices K\n",
    "KRR = assembly_KRR_matrix(Ks, ARr, rs)\n",
    "KPP = assembly_KPP_matrix(Ks, APq, qs)\n",
    "KPR = assembly_KPR_matrix(Ks, APq, ARr, qs, rs)\n",
    "KRP = KPR.T"
   ]
  }
 ],
 "metadata": {
  "kernelspec": {
   "display_name": "ada",
   "language": "python",
   "name": "python3"
  },
  "language_info": {
   "codemirror_mode": {
    "name": "ipython",
    "version": 3
   },
   "file_extension": ".py",
   "mimetype": "text/x-python",
   "name": "python",
   "nbconvert_exporter": "python",
   "pygments_lexer": "ipython3",
   "version": "3.9.13"
  },
  "orig_nbformat": 4,
  "vscode": {
   "interpreter": {
    "hash": "a4bb9c81f8eab16a3a9439dae75e7221139fb6714345d5c49c732ff789ca1486"
   }
  }
 },
 "nbformat": 4,
 "nbformat_minor": 2
}
