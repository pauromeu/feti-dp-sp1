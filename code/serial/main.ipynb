{
 "cells": [
  {
   "cell_type": "code",
   "execution_count": 67,
   "metadata": {},
   "outputs": [
    {
     "name": "stdout",
     "output_type": "stream",
     "text": [
      "The autoreload extension is already loaded. To reload it, use:\n",
      "  %reload_ext autoreload\n"
     ]
    }
   ],
   "source": [
    "# Import modules\n",
    "import numpy as np\n",
    "\n",
    "# Import functions\n",
    "from local_global_matrices import *\n",
    "from assembly_K_matrices import *\n",
    "from utils import *\n",
    "\n",
    "%load_ext autoreload\n",
    "%autoreload 2"
   ]
  },
  {
   "cell_type": "code",
   "execution_count": 68,
   "metadata": {},
   "outputs": [],
   "source": [
    "# Import data\n",
    "d_dat = np.genfromtxt('data/d.dat')\n",
    "fP_dat = np.genfromtxt('data/fP.dat')\n",
    "fr_dat = np.genfromtxt('data/fr.dat')\n",
    "Ks = np.genfromtxt('data/localK.dat')\n",
    "solution = np.genfromtxt('data/solution.dat')"
   ]
  },
  {
   "cell_type": "code",
   "execution_count": 69,
   "metadata": {},
   "outputs": [],
   "source": [
    "# Initial data\n",
    "# Number of subdomains\n",
    "Nsub_x = 4\n",
    "Nsub_y = 3\n",
    "\n",
    "# Number of remaining nodes in each subdomain\n",
    "Nr_x = 4\n",
    "Nr_y = 3\n",
    "\n",
    "# Local remaining and primal indices\n",
    "rs = np.array([1, 2, 4, 5, 6, 7, 9, 10])\n",
    "qs = np.array([0, 3, 8, 11])"
   ]
  },
  {
   "cell_type": "code",
   "execution_count": 70,
   "metadata": {},
   "outputs": [],
   "source": [
    "# Transformation matrices A\n",
    "# Primal nodes local-global transformation matrices\n",
    "APq = create_APq_matrices(Nsub_x, Nsub_y)\n",
    "\n",
    "# Remaining nodes local-global transformation matrices\n",
    "ARr = create_ARr_matrices(Nsub_x, Nsub_y, Nr_x, Nr_y)"
   ]
  },
  {
   "cell_type": "code",
   "execution_count": 71,
   "metadata": {},
   "outputs": [],
   "source": [
    "# Stiffness matrices K\n",
    "KRR = assembly_KRR_matrix(Ks, ARr, rs)\n",
    "KPP = assembly_KPP_matrix(Ks, APq, qs)\n",
    "KRP = assembly_KPR_matrix(Ks, APq, ARr, qs, rs)\n",
    "KPR = KRP.T"
   ]
  },
  {
   "cell_type": "code",
   "execution_count": 72,
   "metadata": {},
   "outputs": [],
   "source": [
    "Nr = Nr_x*Nr_y - 4  # Number of local remaining nodes r\n",
    "NR = Nr*(Nsub_x*Nsub_y)  # Number of total remaining nodes R\n",
    "Nq = 4 # Number of primal nodes in each subdomain \n",
    "NP = (Nsub_x + 1)*(Nsub_y + 1) # Total number of primal nodes"
   ]
  },
  {
   "cell_type": "code",
   "execution_count": 73,
   "metadata": {},
   "outputs": [],
   "source": [
    "NlambdaR = (Nsub_x*(Nr_x - 2)) * (Nsub_y - 1) + (Nsub_y*(Nr_y - 2)) * (Nsub_x - 1)\n",
    "NlambdaP_Dir = 4 # hardcoded\n",
    "NlambdaR_Dir = 3 # hardcoded\n",
    "\n",
    "\n",
    "\n",
    "Nlambda = NlambdaR + NlambdaR_Dir + NlambdaP_Dir"
   ]
  },
  {
   "cell_type": "code",
   "execution_count": 74,
   "metadata": {},
   "outputs": [
    {
     "data": {
      "text/plain": [
       "(32,)"
      ]
     },
     "execution_count": 74,
     "metadata": {},
     "output_type": "execute_result"
    }
   ],
   "source": [
    "d = np.zeros(Nlambda)\n",
    "np.shape(d)"
   ]
  },
  {
   "cell_type": "code",
   "execution_count": 75,
   "metadata": {},
   "outputs": [
    {
     "data": {
      "image/png": "[encoded data removed]",
      "text/plain": [
       "<Figure size 432x288 with 2 Axes>"
      ]
     },
     "metadata": {
      "needs_background": "light"
     },
     "output_type": "display_data"
    }
   ],
   "source": [
    "Nr = Nr_x*Nr_y - 4  # Number of local remaining nodes r\n",
    "NR = Nr*(Nsub_x*Nsub_y)  # Number of total remaining nodes R\n",
    "BlambdaR = np.zeros([Nlambda, NR])\n",
    "\n",
    "for j in range(Nsub_y):\n",
    "    for i in range(Nsub_x):\n",
    "        Brs = np.zeros([Nlambda, Nr])\n",
    "        # Local rs nodes in boundaries\n",
    "        rs_bot = np.arange(Nr_x - 2)\n",
    "        rs_top = np.arange(Nr_x - 2) + (Nr_y - 2)*Nr_x + (Nr_x - 2)\n",
    "        rs_left = np.arange(Nr_x - 2, (Nr_y - 2)*(Nr_x) + Nr_x - 2, Nr_x)\n",
    "        rs_right = rs_left + Nr_x - 1\n",
    "\n",
    "        Nrs_hor = Nr_x - 2\n",
    "        Nrs_ver = Nr_y - 2\n",
    "\n",
    "        # left\n",
    "        if i > 0:\n",
    "            lambda_left = np.arange((i-1) + j*(Nr_y - 2)*(Nsub_x - 1), Nrs_ver*(Nsub_x - 1) + (i-1) + j*(Nr_y - 2)*(Nsub_x - 1),step=Nsub_x - 1)\n",
    "            # print('left', lambda_left)\n",
    "            for lambda_, rs in zip(lambda_left, rs_left):\n",
    "                Brs[int(lambda_), int(rs)] = -1\n",
    "        # right\n",
    "        if i < Nsub_x - 1:\n",
    "            lambda_right = np.arange((i) + j*(Nr_y - 2)*(Nsub_x - 1), Nrs_ver*(Nsub_x - 1) + (i) + j*(Nr_y - 2)*(Nsub_x - 1),step=Nsub_x - 1)\n",
    "            # print('right', lambda_right)\n",
    "            for lambda_, rs in zip(lambda_right, rs_right):\n",
    "                Brs[int(lambda_), int(rs)] = 1\n",
    "        # bottom\n",
    "        NlambdaR_hor = (Nr_y - 2)*(Nsub_y)*(Nsub_x - 1)\n",
    "        if j > 0:\n",
    "            lambda_bot = np.arange(NlambdaR_hor + (j - 1)*(Nr_x - 2)*Nsub_x + i*(Nr_x - 2), NlambdaR_hor + (j - 1)*(Nr_x - 2)*Nsub_x + i*(Nr_x - 2) + (Nr_x - 2))\n",
    "            # print('bot', lambda_bot)\n",
    "            for lambda_, rs in zip(lambda_bot, rs_bot):\n",
    "                Brs[int(lambda_), int(rs)] = 1\n",
    "        # top\n",
    "        if j < Nsub_y - 1:\n",
    "            lambda_top = np.arange(NlambdaR_hor + (j)*(Nr_x - 2)*Nsub_x + i*(Nr_x - 2), NlambdaR_hor + (j)*(Nr_x - 2)*Nsub_x + i*(Nr_x - 2) + (Nr_x - 2))\n",
    "            # print('top', lambda_top)\n",
    "            for lambda_, rs in zip(lambda_top, rs_top):\n",
    "                Brs[int(lambda_), int(rs)] = -1\n",
    "\n",
    "        BlambdaR += Brs @ ARr[i + j*Nsub_x].T\n",
    "\n",
    "plot_sparse_matrix(BlambdaR)"
   ]
  },
  {
   "cell_type": "code",
   "execution_count": 76,
   "metadata": {},
   "outputs": [],
   "source": [
    "# Dirichlet boundary conditions\n",
    "# Left wall remaining\n",
    "\n",
    "Nr_x = 4\n",
    "Nr_y = 3\n",
    "Nsub_x = 4\n",
    "Nsub_y = 3\n",
    "NlambdaR = 25\n",
    "BlambdaR_aux = np.zeros([Nlambda, NR])\n",
    "for j in range(Nsub_y):\n",
    "    Brs = np.zeros([Nlambda, Nr])\n",
    "    rs_left = np.arange(Nr_x - 2, (Nr_y - 2)*(Nr_x) + Nr_x - 2, Nr_x)\n",
    "    lambda_left = np.arange(NlambdaR + (Nr_y - 1)*j + 1, NlambdaR + (Nr_y - 1)*j + 1 + Nr_y - 2)\n",
    "    #d_left = np.arange(1 + j*(Nr_y - 1), 1+j*(Nr_y - 1) + Nr_y - 2)\n",
    "    for rs, lambda_ in zip(rs_left, lambda_left):\n",
    "        Brs[lambda_, rs] = 1\n",
    "    BlambdaR_aux += Brs @ ARr[j*Nsub_x].T\n",
    "    \n",
    "BlambdaR += BlambdaR_aux    \n",
    "\n"
   ]
  },
  {
   "cell_type": "code",
   "execution_count": 77,
   "metadata": {},
   "outputs": [
    {
     "data": {
      "image/png": "[encoded data removed]",
      "text/plain": [
       "<Figure size 432x288 with 2 Axes>"
      ]
     },
     "metadata": {
      "needs_background": "light"
     },
     "output_type": "display_data"
    }
   ],
   "source": [
    "#Left wall primal\n",
    "BlambdaP = np.zeros([Nlambda, NP])\n",
    "\n",
    "for j in range(Nsub_y):\n",
    "    Bqs = np.zeros([Nlambda, Nq])\n",
    "    if j == 0:\n",
    "        Bqs[NlambdaR, 0] = 1\n",
    "    Bqs[NlambdaR + j*(Nr_y - 1) + Nr_y - 1, 2] = 1\n",
    "    BlambdaP += Bqs @ APq[j*Nsub_x].T\n",
    "    \n",
    "plot_sparse_matrix(KRP)"
   ]
  },
  {
   "cell_type": "code",
   "execution_count": 78,
   "metadata": {},
   "outputs": [],
   "source": [
    "# Assembly d\n",
    "d[NlambdaR:]=d_dat"
   ]
  },
  {
   "cell_type": "code",
   "execution_count": 79,
   "metadata": {},
   "outputs": [],
   "source": [
    "# Assembly f\n",
    "# fP\n",
    "fP = fP_dat\n",
    "\n",
    "# fR\n",
    "fR = np.zeros(NR)"
   ]
  },
  {
   "cell_type": "code",
   "execution_count": 80,
   "metadata": {},
   "outputs": [
    {
     "data": {
      "text/plain": [
       "96"
      ]
     },
     "execution_count": 80,
     "metadata": {},
     "output_type": "execute_result"
    }
   ],
   "source": [
    "NR"
   ]
  },
  {
   "cell_type": "code",
   "execution_count": null,
   "metadata": {},
   "outputs": [],
   "source": []
  },
  {
   "cell_type": "code",
   "execution_count": 81,
   "metadata": {},
   "outputs": [],
   "source": [
    "for j in range(Nsub_y):\n",
    "    for i in range(Nsub_x):\n",
    "        Rs = []\n",
    "        for sj in range(Nr_y):\n",
    "            if sj == 0:\n",
    "                Rs = np.concatenate([Rs, np.arange(j*(Nsub_x*Nr) + i*(Nr_x - 2), j*(Nsub_x*Nr) + i*(Nr_x - 2) + Nr_x - 2)])\n",
    "            elif sj == Nr_y - 1:\n",
    "                Rs = np.concatenate([Rs, np.arange(j*(Nsub_x*Nr) + i*(Nr_x - 2) + Nsub_x*Nr_x*(Nr_y - 2) + Nsub_x*(Nr_x - 2),\n",
    "                                                   j*(Nsub_x*Nr) + i*(Nr_x - 2) + Nsub_x*Nr_x*(Nr_y - 2) + Nsub_x*(Nr_x - 2) + Nr_x - 2)])\n",
    "            else:\n",
    "                Rs = np.concatenate([Rs, np.arange(j*(Nsub_x*Nr) + i*(Nr_x) + Nsub_x*Nr_x*(sj - 1) + Nsub_x*(Nr_x - 2), \n",
    "                                                   j*(Nsub_x*Nr) + i*(Nr_x) + Nsub_x*Nr_x*(sj - 1) + Nsub_x*(Nr_x - 2) + Nr_x)])\n",
    "        fR[Rs.astype(int)] = fr_dat\n",
    "\n"
   ]
  },
  {
   "cell_type": "code",
   "execution_count": 82,
   "metadata": {},
   "outputs": [
    {
     "name": "stdout",
     "output_type": "stream",
     "text": [
      "(20, 20) (20, 96) (96, 96) (96, 20)\n"
     ]
    }
   ],
   "source": [
    "print(np.shape(KPP), np.shape(KPR), np.shape(np.linalg.inv(KRR)), np.shape(KRP))"
   ]
  },
  {
   "cell_type": "code",
   "execution_count": 102,
   "metadata": {},
   "outputs": [
    {
     "data": {
      "text/plain": [
       "(96, 96)"
      ]
     },
     "execution_count": 102,
     "metadata": {},
     "output_type": "execute_result"
    }
   ],
   "source": [
    "KRR_inv = np.linalg.inv(KRR)\n",
    "SPP = KPP - KPR @ KRR_inv @ KRP\n",
    "SPP_inv = np.linalg.inv(SPP)\n",
    "np.shape(KRR_inv)"
   ]
  },
  {
   "cell_type": "code",
   "execution_count": 92,
   "metadata": {},
   "outputs": [],
   "source": [
    "fPH = fP - KPR @ KRR_inv @ fR"
   ]
  },
  {
   "cell_type": "code",
   "execution_count": 95,
   "metadata": {},
   "outputs": [
    {
     "data": {
      "text/plain": [
       "(32,)"
      ]
     },
     "execution_count": 95,
     "metadata": {},
     "output_type": "execute_result"
    }
   ],
   "source": [
    "dH = -d + BlambdaP @ SPP_inv @ fPH + BlambdaR @ KRR_inv @ fR - BlambdaR @ KRR_inv @ KRP @ SPP_inv @ fPH\n",
    "np.shape(dH)"
   ]
  },
  {
   "cell_type": "code",
   "execution_count": 107,
   "metadata": {},
   "outputs": [
    {
     "data": {
      "image/png": "[encoded data removed]",
      "text/plain": [
       "<Figure size 432x288 with 2 Axes>"
      ]
     },
     "metadata": {
      "needs_background": "light"
     },
     "output_type": "display_data"
    }
   ],
   "source": [
    "F = -BlambdaP @ SPP_inv @ KPR @ KRR_inv @ BlambdaR.T + BlambdaP @ SPP_inv @ BlambdaP.T + BlambdaR @ KRR_inv @ KRP @ SPP_inv @ KPR @ KRR_inv @ BlambdaR.T - BlambdaR @ KRR_inv @ KRP @ SPP_inv @ BlambdaP.T + BlambdaR @ KRR_inv @ BlambdaR.T\n",
    "np.shape(F)\n",
    "plot_sparse_matrix(F)"
   ]
  },
  {
   "cell_type": "code",
   "execution_count": 108,
   "metadata": {},
   "outputs": [],
   "source": [
    "lambda_ = np.linalg.solve(F, dH)"
   ]
  },
  {
   "cell_type": "code",
   "execution_count": 109,
   "metadata": {},
   "outputs": [
    {
     "data": {
      "text/plain": [
       "array([ 0.51746684,  0.43858385,  0.2843983 ,  0.69623382,  0.50088304,\n",
       "        0.29629248,  0.89456307,  0.56699829,  0.32397136,  0.26080445,\n",
       "        0.19594398,  0.10718585,  0.08083536,  0.04969009,  0.04155966,\n",
       "        0.03631108,  0.03447199,  0.24989827,  0.18029308,  0.07904008,\n",
       "        0.05021373,  0.01614394,  0.00593827, -0.00891034, -0.01139071,\n",
       "       -0.22304335, -0.38304967, -0.90861267, -0.80588513, -1.2592788 ,\n",
       "       -1.26370101, -1.1822901 ])"
      ]
     },
     "execution_count": 109,
     "metadata": {},
     "output_type": "execute_result"
    }
   ],
   "source": [
    "lambda_"
   ]
  },
  {
   "cell_type": "code",
   "execution_count": 112,
   "metadata": {},
   "outputs": [
    {
     "data": {
      "text/plain": [
       "array([ 1.        ,  0.30098417, -0.62726893, -1.34390027, -1.88284308,\n",
       "        2.        ,  0.67008019, -0.39555668, -1.149944  , -1.57146783,\n",
       "        3.        ,  1.09135488, -0.24580204, -1.09290034, -1.53630698,\n",
       "        4.        ,  1.16848728, -0.32713698, -1.2297974 , -1.8125206 ])"
      ]
     },
     "execution_count": 112,
     "metadata": {},
     "output_type": "execute_result"
    }
   ],
   "source": [
    "uP = SPP_inv @ fPH + SPP_inv @ KPR @ KRR_inv @ BlambdaR.T @ lambda_ - SPP_inv @ BlambdaP.T @ lambda_\n",
    "uP"
   ]
  },
  {
   "cell_type": "code",
   "execution_count": 115,
   "metadata": {},
   "outputs": [
    {
     "data": {
      "text/plain": [
       "array([ 1.01830669e+00,  7.59736290e-01,  1.33737978e-01, -1.79567536e-01,\n",
       "       -7.45354371e-01, -9.85162156e-01, -1.36505773e+00, -1.51192411e+00,\n",
       "        1.50000000e+00,  1.21094215e+00,  8.92364776e-01,  5.72454985e-01,\n",
       "        5.72454985e-01,  2.18446704e-01, -1.06712403e-01, -3.93699410e-01,\n",
       "       -3.93699410e-01, -6.85854855e-01, -9.28830098e-01, -1.11978432e+00,\n",
       "       -1.11978432e+00, -1.30703157e+00, -1.43808536e+00, -1.43622958e+00,\n",
       "        1.57146638e+00,  1.14368943e+00,  3.55233373e-01, -1.58714607e-03,\n",
       "       -6.17496366e-01, -8.69747778e-01, -1.25039348e+00, -1.37335595e+00,\n",
       "        1.57146638e+00,  1.14368943e+00,  3.55233373e-01, -1.58714607e-03,\n",
       "       -6.17496366e-01, -8.69747778e-01, -1.25039348e+00, -1.37335595e+00,\n",
       "        2.50000000e+00,  1.97690306e+00,  1.45466030e+00,  9.78229273e-01,\n",
       "        9.78229273e-01,  5.28602977e-01,  1.28874393e-01, -2.19908002e-01,\n",
       "       -2.19908002e-01, -5.38435469e-01, -8.04734937e-01, -1.01793554e+00,\n",
       "       -1.01793554e+00, -1.19806171e+00, -1.32206202e+00, -1.33642793e+00,\n",
       "        2.35146191e+00,  1.72758014e+00,  6.54556967e-01,  2.10044829e-01,\n",
       "       -5.10884646e-01, -7.92803533e-01, -1.20599697e+00, -1.33595731e+00,\n",
       "        2.35146191e+00,  1.72758014e+00,  6.54556967e-01,  2.10044829e-01,\n",
       "       -5.10884646e-01, -7.92803533e-01, -1.20599697e+00, -1.33595731e+00,\n",
       "        3.50000000e+00,  2.71372249e+00,  1.95206908e+00,  1.31648054e+00,\n",
       "        1.31648054e+00,  7.41097651e-01,  2.61075044e-01, -1.33957279e-01,\n",
       "       -1.33957279e-01, -5.01092883e-01, -7.95528055e-01, -1.02097283e+00,\n",
       "       -1.02097283e+00, -1.23013191e+00, -1.37330819e+00, -1.37532875e+00,\n",
       "        2.87051901e+00,  2.01291099e+00,  7.39677177e-01,  2.45827295e-01,\n",
       "       -5.31948967e-01, -8.31220489e-01, -1.27626013e+00, -1.43712540e+00])"
      ]
     },
     "execution_count": 115,
     "metadata": {},
     "output_type": "execute_result"
    }
   ],
   "source": [
    "uR = KRR_inv @ (fR - KRP @ uP - BlambdaR.T @ lambda_)\n",
    "uR"
   ]
  },
  {
   "cell_type": "code",
   "execution_count": 126,
   "metadata": {},
   "outputs": [
    {
     "data": {
      "text/plain": [
       "4"
      ]
     },
     "execution_count": 126,
     "metadata": {},
     "output_type": "execute_result"
    }
   ],
   "source": [
    "class RegularSubdomainsMesh:\n",
    "    def __init__(self, Nsub_x, Nsub_y, Nr_x, Nr_y):\n",
    "        self.Nsub_x = Nsub_x\n",
    "        self.Nsub_y = Nsub_y\n",
    "        self.Nr_x = Nr_x\n",
    "        self.Nr_y = Nr_y\n",
    "\n",
    "        # Number of primal nodes\n",
    "        self.Nq = 4 # local\n",
    "        self.NP = (Nsub_x + 1) * (Nsub_y + 1) # global\n",
    "        \n",
    "        # Number of remaining nodes\n",
    "        self.Nr = Nr_x*Nr_y - 4 # local\n",
    "        self.NR = self.Nr * (Nsub_x*Nsub_y) # global\n",
    "                \n",
    "    \n",
    "   \n",
    "\n",
    "mesh = RegularSubdomainsMesh(4, 3, 4, 3)\n",
    "\n"
   ]
  }
 ],
 "metadata": {
  "kernelspec": {
   "display_name": "ada",
   "language": "python",
   "name": "python3"
  },
  "language_info": {
   "codemirror_mode": {
    "name": "ipython",
    "version": 3
   },
   "file_extension": ".py",
   "mimetype": "text/x-python",
   "name": "python",
   "nbconvert_exporter": "python",
   "pygments_lexer": "ipython3",
   "version": "3.9.13"
  },
  "orig_nbformat": 4,
  "vscode": {
   "interpreter": {
    "hash": "a4bb9c81f8eab16a3a9439dae75e7221139fb6714345d5c49c732ff789ca1486"
   }
  }
 },
 "nbformat": 4,
 "nbformat_minor": 2
}
