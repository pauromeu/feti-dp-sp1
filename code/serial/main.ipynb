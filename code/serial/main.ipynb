{
 "cells": [
  {
   "cell_type": "code",
   "execution_count": 81,
   "metadata": {},
   "outputs": [
    {
     "name": "stdout",
     "output_type": "stream",
     "text": [
      "The autoreload extension is already loaded. To reload it, use:\n",
      "  %reload_ext autoreload\n"
     ]
    }
   ],
   "source": [
    "# Import modules\n",
    "import numpy as np\n",
    "\n",
    "# Import functions\n",
    "from local_global_matrices import *\n",
    "from assembly_K_matrices import *\n",
    "from utils import *\n",
    "\n",
    "%load_ext autoreload\n",
    "%autoreload 2"
   ]
  },
  {
   "cell_type": "code",
   "execution_count": 82,
   "metadata": {},
   "outputs": [],
   "source": [
    "# Import data\n",
    "d = np.fromfile('data/d.dat')\n",
    "fP = np.fromfile('data/fP.dat')\n",
    "fr = np.fromfile('data/fr.dat')\n",
    "Ks = np.genfromtxt('data/localK.dat')\n",
    "solution = np.fromfile('data/solution.dat')"
   ]
  },
  {
   "cell_type": "code",
   "execution_count": 83,
   "metadata": {},
   "outputs": [],
   "source": [
    "# Initial data\n",
    "# Number of subdomains\n",
    "Nsub_x = 4\n",
    "Nsub_y = 3\n",
    "\n",
    "# Number of remaining nodes in each subdomain\n",
    "Nr_x = 4\n",
    "Nr_y = 3\n",
    "\n",
    "# Local remaining and primal indices\n",
    "rs = np.array([1, 2, 4, 5, 6, 7, 9, 10])\n",
    "qs = np.array([0, 3, 8, 11])"
   ]
  },
  {
   "cell_type": "code",
   "execution_count": 84,
   "metadata": {},
   "outputs": [],
   "source": [
    "# Transformation matrices A\n",
    "# Primal nodes local-global transformation matrices\n",
    "APq = create_APq_matrices(Nsub_x, Nsub_y)\n",
    "\n",
    "# Remaining nodes local-global transformation matrices\n",
    "ARr = create_ARr_matrices(Nsub_x, Nsub_y, Nr_x, Nr_y)"
   ]
  },
  {
   "cell_type": "code",
   "execution_count": 85,
   "metadata": {},
   "outputs": [],
   "source": [
    "# Stiffness matrices K\n",
    "KRR = assembly_KRR_matrix(Ks, ARr, rs)\n",
    "KPP = assembly_KPP_matrix(Ks, APq, qs)\n",
    "KPR = assembly_KPR_matrix(Ks, APq, ARr, qs, rs)\n",
    "KRP = KPR.T"
   ]
  },
  {
   "cell_type": "code",
   "execution_count": 86,
   "metadata": {},
   "outputs": [
    {
     "data": {
      "text/plain": [
       "8"
      ]
     },
     "execution_count": 86,
     "metadata": {},
     "output_type": "execute_result"
    }
   ],
   "source": [
    "Nr = Nr_x*Nr_y - 4  # Number of local remaining nodes r\n",
    "NR = Nr*(Nsub_x*Nsub_y)  # Number of total remaining nodes R\n",
    "Nr"
   ]
  },
  {
   "cell_type": "code",
   "execution_count": 87,
   "metadata": {},
   "outputs": [],
   "source": [
    "Nlambdar = (Nsub_x*(Nr_x - 2)) * (Nsub_y - 1) + (Nsub_y*(Nr_y - 2)) * (Nsub_x - 1)\n",
    "Nlambdap_Dir = 4 # hardcoded\n",
    "Nlambdar_Dir = 3 # hardcoded\n",
    "\n",
    "Nlambda = Nlambdar + Nlambdar_Dir + Nlambdap_Dir"
   ]
  },
  {
   "cell_type": "code",
   "execution_count": 88,
   "metadata": {},
   "outputs": [
    {
     "data": {
      "image/png": "[encoded data removed]",
      "text/plain": [
       "<Figure size 432x288 with 2 Axes>"
      ]
     },
     "metadata": {
      "needs_background": "light"
     },
     "output_type": "display_data"
    }
   ],
   "source": [
    "Nr = Nr_x*Nr_y - 4  # Number of local remaining nodes r\n",
    "NR = Nr*(Nsub_x*Nsub_y)  # Number of total remaining nodes R\n",
    "BlambdaR = np.zeros([Nlambda, NR])\n",
    "\n",
    "for j in range(Nsub_y):\n",
    "    for i in range(Nsub_x):\n",
    "        Brs = np.zeros([Nlambda, Nr])\n",
    "        # Local rs nodes in boundaries\n",
    "        rs_bot = np.arange(Nr_x - 2)\n",
    "        rs_top = np.arange(Nr_x - 2) + (Nr_y - 2)*Nr_x + (Nr_x - 2)\n",
    "        rs_left = np.arange(Nr_x - 2, (Nr_y - 2)*(Nr_x) + Nr_x - 2, Nr_x)\n",
    "        rs_right = rs_left + Nr_x - 1\n",
    "\n",
    "        Nrs_hor = Nr_x - 2\n",
    "        Nrs_ver = Nr_y - 2\n",
    "\n",
    "        # left\n",
    "        if i > 0:\n",
    "            lambda_left = np.arange((i-1) + j*(Nr_y - 2)*(Nsub_x - 1), Nrs_ver*(Nsub_x - 1) + (i-1) + j*(Nr_y - 2)*(Nsub_x - 1),step=Nsub_x - 1)\n",
    "            # print('left', lambda_left)\n",
    "            for lambda_, rs in zip(lambda_left, rs_left):\n",
    "                Brs[int(lambda_), int(rs)] = -1\n",
    "        # right\n",
    "        if i < Nsub_x - 1:\n",
    "            lambda_right = np.arange((i) + j*(Nr_y - 2)*(Nsub_x - 1), Nrs_ver*(Nsub_x - 1) + (i) + j*(Nr_y - 2)*(Nsub_x - 1),step=Nsub_x - 1)\n",
    "            # print('right', lambda_right)\n",
    "            for lambda_, rs in zip(lambda_right, rs_right):\n",
    "                Brs[int(lambda_), int(rs)] = 1\n",
    "        # bottom\n",
    "        Nlambdar_hor = (Nr_y - 2)*(Nsub_y)*(Nsub_x - 1)\n",
    "        if j > 0:\n",
    "            lambda_bot = np.arange(Nlambdar_hor + (j - 1)*(Nr_x - 2)*Nsub_x + i*(Nr_x - 2), Nlambdar_hor + (j - 1)*(Nr_x - 2)*Nsub_x + i*(Nr_x - 2) + (Nr_x - 2))\n",
    "            # print('bot', lambda_bot)\n",
    "            for lambda_, rs in zip(lambda_bot, rs_bot):\n",
    "                Brs[int(lambda_), int(rs)] = 1\n",
    "        # top\n",
    "        if j < Nsub_y - 1:\n",
    "            lambda_top = np.arange(Nlambdar_hor + (j)*(Nr_x - 2)*Nsub_x + i*(Nr_x - 2), Nlambdar_hor + (j)*(Nr_x - 2)*Nsub_x + i*(Nr_x - 2) + (Nr_x - 2))\n",
    "            # print('top', lambda_top)\n",
    "            for lambda_, rs in zip(lambda_top, rs_top):\n",
    "                Brs[int(lambda_), int(rs)] = -1\n",
    "\n",
    "        BlambdaR += Brs @ ARr[i + j*Nsub_x].T\n",
    "\n",
    "plot_sparse_matrix(BlambdaR)"
   ]
  },
  {
   "cell_type": "code",
   "execution_count": null,
   "metadata": {},
   "outputs": [],
   "source": []
  }
 ],
 "metadata": {
  "kernelspec": {
   "display_name": "ada",
   "language": "python",
   "name": "python3"
  },
  "language_info": {
   "codemirror_mode": {
    "name": "ipython",
    "version": 3
   },
   "file_extension": ".py",
   "mimetype": "text/x-python",
   "name": "python",
   "nbconvert_exporter": "python",
   "pygments_lexer": "ipython3",
   "version": "3.9.13"
  },
  "orig_nbformat": 4,
  "vscode": {
   "interpreter": {
    "hash": "a4bb9c81f8eab16a3a9439dae75e7221139fb6714345d5c49c732ff789ca1486"
   }
  }
 },
 "nbformat": 4,
 "nbformat_minor": 2
}
