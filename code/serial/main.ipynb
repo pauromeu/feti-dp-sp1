{
 "cells": [
  {
   "cell_type": "code",
   "execution_count": 1,
   "metadata": {},
   "outputs": [],
   "source": [
    "# Import modules\n",
    "import numpy as np\n",
    "\n",
    "# Import functions\n",
    "from local_global_matrices import *\n",
    "from assembly_K_matrices import *\n",
    "from assembly_B_matrices import *\n",
    "from assembly_f_vectors import *\n",
    "from RegularSudomainsMesh import RegularSubdomainsMesh\n",
    "from utils import *\n",
    "\n",
    "%load_ext autoreload\n",
    "%autoreload 2"
   ]
  },
  {
   "cell_type": "code",
   "execution_count": 2,
   "metadata": {},
   "outputs": [],
   "source": [
    "# Import data\n",
    "d_dat = np.genfromtxt('data/d.dat')\n",
    "fP_dat = np.genfromtxt('data/fP.dat')\n",
    "fr_dat = np.genfromtxt('data/fr.dat')\n",
    "Ks = np.genfromtxt('data/localK.dat')\n",
    "solution = np.genfromtxt('data/solution.dat')"
   ]
  },
  {
   "cell_type": "code",
   "execution_count": 3,
   "metadata": {},
   "outputs": [],
   "source": [
    "# Initial data\n",
    "# Number of subdomains\n",
    "Nsub_x = 4\n",
    "Nsub_y = 3\n",
    "\n",
    "# Number of remaining nodes in each subdomain\n",
    "Nr_x = 4\n",
    "Nr_y = 3\n",
    "\n",
    "# Local remaining and primal indices\n",
    "rs = np.array([1, 2, 4, 5, 6, 7, 9, 10])\n",
    "qs = np.array([0, 3, 8, 11])"
   ]
  },
  {
   "cell_type": "code",
   "execution_count": 13,
   "metadata": {},
   "outputs": [],
   "source": [
    "# Create mesh\n",
    "mesh = RegularSubdomainsMesh(Nsub_x, Nsub_y, Nr_x, Nr_y)"
   ]
  },
  {
   "cell_type": "code",
   "execution_count": 16,
   "metadata": {},
   "outputs": [],
   "source": [
    "# Transformation matrices A\n",
    "# Primal nodes local-global transformation matrices\n",
    "APq = create_APq_matrices(mesh)\n",
    "\n",
    "# Remaining nodes local-global transformation matrices\n",
    "ARr = create_ARr_matrices(mesh)"
   ]
  },
  {
   "cell_type": "code",
   "execution_count": 17,
   "metadata": {},
   "outputs": [
    {
     "ename": "TypeError",
     "evalue": "assembly_KRR_matrix() missing 1 required positional argument: 'mesh'",
     "output_type": "error",
     "traceback": [
      "\u001b[1;31m---------------------------------------------------------------------------\u001b[0m",
      "\u001b[1;31mTypeError\u001b[0m                                 Traceback (most recent call last)",
      "\u001b[1;32m~\\AppData\\Local\\Temp/ipykernel_3500/3075393700.py\u001b[0m in \u001b[0;36m<module>\u001b[1;34m\u001b[0m\n\u001b[0;32m      1\u001b[0m \u001b[1;31m# Stiffness matrices K\u001b[0m\u001b[1;33m\u001b[0m\u001b[1;33m\u001b[0m\u001b[0m\n\u001b[1;32m----> 2\u001b[1;33m \u001b[0mKRR\u001b[0m \u001b[1;33m=\u001b[0m \u001b[0massembly_KRR_matrix\u001b[0m\u001b[1;33m(\u001b[0m\u001b[0mKs\u001b[0m\u001b[1;33m,\u001b[0m \u001b[0mARr\u001b[0m\u001b[1;33m,\u001b[0m \u001b[0mrs\u001b[0m\u001b[1;33m)\u001b[0m\u001b[1;33m\u001b[0m\u001b[1;33m\u001b[0m\u001b[0m\n\u001b[0m\u001b[0;32m      3\u001b[0m \u001b[0mKPP\u001b[0m \u001b[1;33m=\u001b[0m \u001b[0massembly_KPP_matrix\u001b[0m\u001b[1;33m(\u001b[0m\u001b[0mKs\u001b[0m\u001b[1;33m,\u001b[0m \u001b[0mAPq\u001b[0m\u001b[1;33m,\u001b[0m \u001b[0mqs\u001b[0m\u001b[1;33m)\u001b[0m\u001b[1;33m\u001b[0m\u001b[1;33m\u001b[0m\u001b[0m\n\u001b[0;32m      4\u001b[0m \u001b[0mKRP\u001b[0m \u001b[1;33m=\u001b[0m \u001b[0massembly_KRP_matrix\u001b[0m\u001b[1;33m(\u001b[0m\u001b[0mKs\u001b[0m\u001b[1;33m,\u001b[0m \u001b[0mAPq\u001b[0m\u001b[1;33m,\u001b[0m \u001b[0mARr\u001b[0m\u001b[1;33m,\u001b[0m \u001b[0mqs\u001b[0m\u001b[1;33m,\u001b[0m \u001b[0mrs\u001b[0m\u001b[1;33m)\u001b[0m\u001b[1;33m\u001b[0m\u001b[1;33m\u001b[0m\u001b[0m\n\u001b[0;32m      5\u001b[0m \u001b[0mKPR\u001b[0m \u001b[1;33m=\u001b[0m \u001b[0mKRP\u001b[0m\u001b[1;33m.\u001b[0m\u001b[0mT\u001b[0m\u001b[1;33m\u001b[0m\u001b[1;33m\u001b[0m\u001b[0m\n",
      "\u001b[1;31mTypeError\u001b[0m: assembly_KRR_matrix() missing 1 required positional argument: 'mesh'"
     ]
    }
   ],
   "source": [
    "# Stiffness matrices K\n",
    "KRR = assembly_KRR_matrix(Ks, ARr, rs, mesh)\n",
    "KPP = assembly_KPP_matrix(Ks, APq, qs, mesh)\n",
    "KRP = assembly_KRP_matrix(Ks, APq, ARr, qs, rs, mesh)\n",
    "KPR = KRP.T"
   ]
  },
  {
   "cell_type": "code",
   "execution_count": 6,
   "metadata": {},
   "outputs": [],
   "source": [
    "# Remaining nodes\n",
    "Nr = Nr_x*Nr_y - 4  # Number of local remaining nodes r\n",
    "NR = Nr*(Nsub_x*Nsub_y)  # Number of total remaining nodes R\n",
    "\n",
    "# Primal nodes\n",
    "Nq = 4 # Number of primal nodes in each subdomain \n",
    "NP = (Nsub_x + 1)*(Nsub_y + 1) # Total number of primal nodes\n",
    "\n",
    "# Lambda nodes\n",
    "NlambdaR = (Nsub_x*(Nr_x - 2)) * (Nsub_y - 1) + (Nsub_y*(Nr_y - 2)) * (Nsub_x - 1)\n",
    "NlambdaP_Dir = Nsub_y + 1 \n",
    "NlambdaR_Dir = (Nr_y - 2)*Nsub_y \n",
    "Nlambda = NlambdaR + NlambdaR_Dir + NlambdaP_Dir"
   ]
  },
  {
   "cell_type": "code",
   "execution_count": 7,
   "metadata": {},
   "outputs": [],
   "source": [
    "# Assembly B matrices\n",
    "BlambdaR = assembly_BR_matrix(Nr_x, Nr_y, Nsub_x, Nsub_y, Nlambda, ARr)\n",
    "\n",
    "# Dirichlet boundary conditions\n",
    "# Left wall remaining\n",
    "BlambdaR = assembly_Dirichlet_BR_matrix(Nlambda, NR, Nsub_y, Nr, Nr_x, Nr_y, NlambdaR, Nsub_x, ARr, BlambdaR)\n",
    "\n",
    "#Left wall primal\n",
    "BlambdaP = assembly_Dirichlet_BP_matrix(Nsub_x, Nsub_y, Nr_y, Nlambda, NP, Nq, NlambdaR, APq)"
   ]
  },
  {
   "cell_type": "code",
   "execution_count": 8,
   "metadata": {},
   "outputs": [],
   "source": [
    "# Assembly d vector\n",
    "d = np.zeros(Nlambda)\n",
    "d[NlambdaR:]=d_dat"
   ]
  },
  {
   "cell_type": "code",
   "execution_count": 9,
   "metadata": {},
   "outputs": [],
   "source": [
    "# Assembly f vectors\n",
    "# fP\n",
    "fP = fP_dat\n",
    "\n",
    "# fR\n",
    "fR = assembly_fR_vector(Nsub_x, Nsub_y, Nr, Nr_x, Nr_y, NR, fr_dat)"
   ]
  },
  {
   "cell_type": "code",
   "execution_count": 10,
   "metadata": {},
   "outputs": [],
   "source": [
    "# Matrices pre computation\n",
    "KRR_inv = np.linalg.inv(KRR)\n",
    "\n",
    "SPP = KPP - KPR @ KRR_inv @ KRP\n",
    "SPP_inv = np.linalg.inv(SPP)\n",
    "\n",
    "fPH = fP - KPR @ KRR_inv @ fR\n",
    "\n",
    "dH = -d \\\n",
    "    + BlambdaP @ SPP_inv @ fPH \\\n",
    "    + BlambdaR @ KRR_inv @ fR \\\n",
    "    - BlambdaR @ KRR_inv @ KRP @ SPP_inv @ fPH\n",
    "\n",
    "F = BlambdaR @ KRR_inv @ BlambdaR.T \\\n",
    "    + BlambdaR @ KRR_inv @ KRP @ SPP_inv @ KPR @ KRR_inv @ BlambdaR.T \\\n",
    "    + BlambdaP @ SPP_inv @ BlambdaP.T \\\n",
    "    - BlambdaP @ SPP_inv @ KPR @ KRR_inv @ BlambdaR.T \\\n",
    "    - BlambdaR @ KRR_inv @ KRP @ SPP_inv @ BlambdaP.T"
   ]
  },
  {
   "cell_type": "code",
   "execution_count": 11,
   "metadata": {},
   "outputs": [],
   "source": [
    "# Solve lambda linear system\n",
    "lambda_ = np.linalg.solve(F, dH)"
   ]
  },
  {
   "cell_type": "code",
   "execution_count": 12,
   "metadata": {},
   "outputs": [],
   "source": [
    "# Compute u\n",
    "# uP\n",
    "uP = SPP_inv @ fPH \\\n",
    "    + SPP_inv @ KPR @ KRR_inv @ BlambdaR.T @ lambda_ \\\n",
    "    - SPP_inv @ BlambdaP.T @ lambda_\n",
    "\n",
    "# uR\n",
    "uR = KRR_inv @ fR \\\n",
    "    + KRR_inv @ KRP @ SPP_inv @ KPR @ KRR_inv @ fR \\\n",
    "    - KRR_inv @ KRP @ SPP_inv @ fP \\\n",
    "    - KRR_inv @ KRP @ SPP_inv @ KPR @ KRR_inv @ BlambdaR.T @ lambda_ \\\n",
    "    + KRR_inv @ KRP @ SPP_inv @ BlambdaP.T @ lambda_ \\\n",
    "    - KRR_inv @ BlambdaR.T @ lambda_"
   ]
  }
 ],
 "metadata": {
  "kernelspec": {
   "display_name": "ada",
   "language": "python",
   "name": "python3"
  },
  "language_info": {
   "codemirror_mode": {
    "name": "ipython",
    "version": 3
   },
   "file_extension": ".py",
   "mimetype": "text/x-python",
   "name": "python",
   "nbconvert_exporter": "python",
   "pygments_lexer": "ipython3",
   "version": "3.9.13"
  },
  "orig_nbformat": 4,
  "vscode": {
   "interpreter": {
    "hash": "a4bb9c81f8eab16a3a9439dae75e7221139fb6714345d5c49c732ff789ca1486"
   }
  }
 },
 "nbformat": 4,
 "nbformat_minor": 2
}
