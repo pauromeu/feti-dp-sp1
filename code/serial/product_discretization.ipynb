{
 "cells": [
  {
   "cell_type": "code",
   "execution_count": 2,
   "metadata": {},
   "outputs": [],
   "source": [
    "# Import modules\n",
    "import numpy as np\n",
    "import numpy.linalg as LA\n",
    "\n",
    "# Import functions\n",
    "from assembly_A_local_global_matrices import *\n",
    "from assembly_K_matrices import *\n",
    "from assembly_B_matrices import *\n",
    "from assembly_f_vectors import *\n",
    "from assembly_u_solution import *\n",
    "from RegularSudomainsMesh import RegularSubdomainsMesh\n",
    "from utils import *\n",
    "\n",
    "%load_ext autoreload\n",
    "%autoreload 2"
   ]
  },
  {
   "cell_type": "code",
   "execution_count": 3,
   "metadata": {},
   "outputs": [],
   "source": [
    "# Import data\n",
    "d_dat = np.genfromtxt('data/d.dat')\n",
    "fP_dat = np.genfromtxt('data/fP.dat')\n",
    "fr_dat = np.genfromtxt('data/fr.dat')\n",
    "Ks = np.genfromtxt('data/localK.dat')\n",
    "solution = np.genfromtxt('data/solution.dat')"
   ]
  },
  {
   "cell_type": "code",
   "execution_count": 4,
   "metadata": {},
   "outputs": [],
   "source": [
    "# Initial data\n",
    "# Number of subdomains\n",
    "Nsub_x = 4\n",
    "Nsub_y = 3\n",
    "\n",
    "# Number of remaining nodes in each subdomain\n",
    "Nr_x = 4\n",
    "Nr_y = 3\n",
    "\n",
    "# Local remaining and primal indices\n",
    "rs = np.array([1, 2, 4, 5, 6, 7, 9, 10])\n",
    "qs = np.array([0, 3, 8, 11])\n",
    "qs_left_bound = np.array([0, 8])\n",
    "qs_right = np.array([3, 11])"
   ]
  },
  {
   "cell_type": "code",
   "execution_count": 5,
   "metadata": {},
   "outputs": [],
   "source": [
    "# Create mesh\n",
    "mesh = RegularSubdomainsMesh(Nsub_x, Nsub_y, Nr_x, Nr_y)"
   ]
  },
  {
   "cell_type": "code",
   "execution_count": 6,
   "metadata": {},
   "outputs": [],
   "source": [
    "# Transformation matrices A\n",
    "# Primal nodes local-global transformation matrices\n",
    "APq = create_APq_matrices(mesh)\n",
    "\n",
    "# Remaining nodes local-global transformation matrices\n",
    "ARr = create_ARr_matrices(mesh)\n",
    "\n",
    "# Dirichlet nodes local-global transformation matrices\n",
    "ADd = create_ADq_matrices(mesh)"
   ]
  },
  {
   "cell_type": "code",
   "execution_count": 7,
   "metadata": {},
   "outputs": [],
   "source": [
    "# Stiffness matrices K\n",
    "KRR = assembly_KRR_matrix(Ks, ARr, rs, mesh)\n",
    "KPP = assembly_KPP_matrix(Ks, APq, qs, qs_right, mesh)\n",
    "KRP, Krqs_list = assembly_KRP_matrix(Ks, APq, ARr, qs, qs_right, rs, mesh)\n",
    "KPR = KRP.T\n",
    "Kqrs_list = [Krqs.T for Krqs in Krqs_list]\n",
    "KPD = assembly_KPD_matrix(Ks, APq, ADd, qs_left_bound, qs_right, mesh)\n",
    "KRD = assembly_KRD_matrix(Ks, ARr, ADd, qs_left_bound, rs, mesh)"
   ]
  },
  {
   "cell_type": "code",
   "execution_count": 8,
   "metadata": {},
   "outputs": [],
   "source": [
    "# Assembly B matrices\n",
    "BlambdaR, BRs_list = assembly_BR_matrix(mesh, ARr)\n",
    "\n",
    "# Dirichlet boundary conditions\n",
    "# Left wall remaining\n",
    "BlambdaR, BRs_list = assembly_Dirichlet_BR_matrix(mesh, ARr, BlambdaR, BRs_list)"
   ]
  },
  {
   "cell_type": "code",
   "execution_count": 9,
   "metadata": {},
   "outputs": [],
   "source": [
    "# Assembly d vector\n",
    "d = np.zeros(mesh.Nlambda)\n",
    "d[mesh.NlambdaR:] = d_dat[np.arange(len(d_dat)) % (mesh.Nr_y - 1) != 0]"
   ]
  },
  {
   "cell_type": "code",
   "execution_count": 10,
   "metadata": {},
   "outputs": [],
   "source": [
    "# Assembly f vectors\n",
    "# fP\n",
    "fP, fD = assembly_fP_fD_vectors(mesh, fP_dat)\n",
    "\n",
    "# fR\n",
    "fR = assembly_fR_vector(mesh, fr_dat)"
   ]
  },
  {
   "cell_type": "code",
   "execution_count": 11,
   "metadata": {},
   "outputs": [],
   "source": [
    "# Assembly uD vector\n",
    "uD = d_dat[np.arange(len(d_dat)) % (mesh.Nr_y - 1) == 0]"
   ]
  },
  {
   "cell_type": "code",
   "execution_count": 12,
   "metadata": {},
   "outputs": [],
   "source": [
    "# Matrices pre computation"
   ]
  },
  {
   "cell_type": "code",
   "execution_count": 13,
   "metadata": {},
   "outputs": [],
   "source": [
    "# Matrices pre computation\n",
    "KRR_inv = np.linalg.inv(KRR)\n",
    "\n",
    "SPP = KPP - KPR @ KRR_inv @ KRP\n",
    "SPP_inv = np.linalg.inv(SPP)\n",
    "\n",
    "fPH = fP - KPD @ uD\n",
    "fRH = fR - KRD @ uD\n",
    "\n",
    "IR = np.eye(mesh.NR) # RxR identity matrix\n",
    "\n",
    "dH = d - BlambdaR @ KRR_inv @ ((IR + KRP @ SPP_inv @ KPR @ KRR_inv) @ fRH - KRP @ SPP_inv @ fPH)\n",
    "F = -BlambdaR @ KRR_inv @ (KRP @ SPP_inv @ KPR @ KRR_inv + IR) @ BlambdaR.T"
   ]
  },
  {
   "cell_type": "code",
   "execution_count": 14,
   "metadata": {},
   "outputs": [],
   "source": [
    "z = np.array([0.11097952, 0.76367948, 0.3643149 , 0.43658249, 0.54056894,\n",
    "       0.62960657, 0.46773485, 0.57270768, 0.02533156, 0.96696452,\n",
    "       0.33969156, 0.23758129, 0.2509545 , 0.84673038, 0.435943  ,\n",
    "       0.19422253, 0.61608355, 0.24816213, 0.08060656, 0.04745991,\n",
    "       0.03908529, 0.70291525, 0.35247435, 0.63742649, 0.21508681,\n",
    "       0.77903499, 0.27058676, 0.29763978])"
   ]
  },
  {
   "cell_type": "code",
   "execution_count": 15,
   "metadata": {},
   "outputs": [
    {
     "data": {
      "text/plain": [
       "(96, 96)"
      ]
     },
     "execution_count": 15,
     "metadata": {},
     "output_type": "execute_result"
    }
   ],
   "source": [
    "np.shape(KRR_inv)"
   ]
  },
  {
   "cell_type": "code",
   "execution_count": 16,
   "metadata": {},
   "outputs": [
    {
     "name": "stderr",
     "output_type": "stream",
     "text": [
      "c:\\Users\\34683\\.conda\\envs\\ada\\lib\\site-packages\\scipy\\__init__.py:146: UserWarning: A NumPy version >=1.16.5 and <1.23.0 is required for this version of SciPy (detected version 1.24.1\n",
      "  warnings.warn(f\"A NumPy version >={np_minversion} and <{np_maxversion}\"\n"
     ]
    }
   ],
   "source": [
    "from scipy.linalg import solve_triangular\n",
    "\n",
    "def solve_cholesky(L, b):\n",
    "    \"\"\"\n",
    "    Solves the system of linear equations Ax = b using the Cholesky decomposition,\n",
    "    where A is a symmetric positive definite matrix and L is its Cholesky factorization.\n",
    "    This function uses triangular solvers to perform forward and backward substitution.\n",
    "    \n",
    "    Parameters:\n",
    "    L (ndarray): The lower triangular Cholesky factor of A\n",
    "    b (ndarray): The right-hand side vector of the equation Ax = b\n",
    "    \n",
    "    Returns:\n",
    "    x (ndarray): The solution vector x of Ax = b\n",
    "    \"\"\"\n",
    "    # Solve Ly = b using forward substitution\n",
    "    y = solve_triangular(L, b, lower=True)\n",
    "    \n",
    "    # Solve L.T x = y using backward substitution\n",
    "    x = solve_triangular(L.T, y, lower=False)\n",
    "    \n",
    "    return x\n"
   ]
  },
  {
   "cell_type": "code",
   "execution_count": 19,
   "metadata": {},
   "outputs": [],
   "source": [
    "# Matrix vector multiplication\n",
    "# xr = KPR @ KRR_inv @ BlambdaR.T @ z\n",
    "x = np.zeros(np.shape(KPR)[0])\n",
    "\n",
    "Krrs = Ks[rs][:, rs]\n",
    "Kqrs = Ks[qs][:, rs]\n",
    "Krrs_inv = LA.inv(Krrs)\n",
    "LA_Krrs = LA.cholesky(Krrs)\n",
    "LA_SPP = LA.cholesky(SPP)\n",
    "Krrs_inv = LA.inv(Krrs)\n",
    "\n",
    "# In parallel\n",
    "for (Apqs, Kqrs, Brs) in zip (APq, Kqrs_list, BRs_list):\n",
    "    x += Apqs @ Kqrs @ Krrs_inv @ Brs.T @ z\n",
    "\n",
    "alpha = solve_cholesky(LA_SPP, x)\n",
    "\n",
    "a = np.zeros(np.shape(BlambdaR)[0])\n",
    "ar = BlambdaR @ KRR_inv @ KRP @ alpha\n",
    "\n",
    "# Sync required!\n",
    "for (BRs, Kqrs, Apqs) in zip (BRs_list, Kqrs_list, APq):\n",
    "    a += BRs @ Krrs_inv @ Kqrs.T @ Apqs.T @ alpha\n",
    "\n",
    "b = np.zeros(np.shape(BlambdaR)[0])\n",
    "br = BlambdaR @ KRR_inv @ BlambdaR.T @ z\n",
    "\n",
    "for BRs in BRs_list:\n",
    "    b += BRs @ Krrs_inv @ BRs.T @ z\n"
   ]
  },
  {
   "cell_type": "markdown",
   "metadata": {},
   "source": []
  },
  {
   "cell_type": "code",
   "execution_count": 20,
   "metadata": {},
   "outputs": [
    {
     "data": {
      "text/plain": [
       "array([0., 0., 0., 0., 0., 0., 0., 0., 0., 0., 0., 0., 0., 0., 0., 0., 0.,\n",
       "       0., 0., 0., 0., 0., 0., 0., 0., 0., 0., 0.])"
      ]
     },
     "execution_count": 20,
     "metadata": {},
     "output_type": "execute_result"
    }
   ],
   "source": [
    "err = ar - a\n",
    "err[err < 1e-10] = 0\n",
    "err"
   ]
  },
  {
   "cell_type": "code",
   "execution_count": null,
   "metadata": {},
   "outputs": [],
   "source": []
  }
 ],
 "metadata": {
  "kernelspec": {
   "display_name": "ada",
   "language": "python",
   "name": "python3"
  },
  "language_info": {
   "codemirror_mode": {
    "name": "ipython",
    "version": 3
   },
   "file_extension": ".py",
   "mimetype": "text/x-python",
   "name": "python",
   "nbconvert_exporter": "python",
   "pygments_lexer": "ipython3",
   "version": "3.9.13 (main, Aug 25 2022, 23:51:50) [MSC v.1916 64 bit (AMD64)]"
  },
  "orig_nbformat": 4,
  "vscode": {
   "interpreter": {
    "hash": "a4bb9c81f8eab16a3a9439dae75e7221139fb6714345d5c49c732ff789ca1486"
   }
  }
 },
 "nbformat": 4,
 "nbformat_minor": 2
}
