{
 "cells": [
  {
   "cell_type": "code",
   "execution_count": 179,
   "metadata": {},
   "outputs": [
    {
     "name": "stdout",
     "output_type": "stream",
     "text": [
      "The autoreload extension is already loaded. To reload it, use:\n",
      "  %reload_ext autoreload\n"
     ]
    }
   ],
   "source": [
    "# Import modules\n",
    "import numpy as np\n",
    "\n",
    "# Import functions\n",
    "from common.assembly_A_local_global_matrices import *\n",
    "from common.assembly_K_matrices import *\n",
    "from common.assembly_B_matrices import *\n",
    "from common.assembly_f_vectors import *\n",
    "from common.assembly_u_solution import *\n",
    "from common.RegularSudomainsMesh import RegularSubdomainsMesh\n",
    "from common.utils import *\n",
    "\n",
    "%load_ext autoreload\n",
    "%autoreload 2"
   ]
  },
  {
   "cell_type": "code",
   "execution_count": 180,
   "metadata": {},
   "outputs": [],
   "source": [
    "# Import data\n",
    "d_dat = np.genfromtxt('../data/small/d.dat')\n",
    "fP_dat = np.genfromtxt('../data/small/fP.dat')\n",
    "fr_dat = np.genfromtxt('../data/small/fr.dat')\n",
    "Ks = np.genfromtxt('../data/small/localK.dat')\n",
    "solution = np.genfromtxt('../data/small/solution.dat')"
   ]
  },
  {
   "cell_type": "code",
   "execution_count": 181,
   "metadata": {},
   "outputs": [],
   "source": [
    "# Initial data\n",
    "# Number of subdomains\n",
    "Nsub_x = 4\n",
    "Nsub_y = 3\n",
    "\n",
    "# Number of remaining nodes in each subdomain\n",
    "Nr_x = 4\n",
    "Nr_y = 3\n",
    "\n",
    "# Local remaining and primal indices\n",
    "rs = np.array([1, 2, 4, 5, 6, 7, 9, 10])\n",
    "qs = np.array([0, 3, 8, 11])\n",
    "qs_left_bound = np.array([0, 8])\n",
    "qs_right = np.array([3, 11])"
   ]
  },
  {
   "cell_type": "code",
   "execution_count": 182,
   "metadata": {},
   "outputs": [],
   "source": [
    "# Create mesh\n",
    "mesh = RegularSubdomainsMesh(Nsub_x, Nsub_y, Nr_x, Nr_y)"
   ]
  },
  {
   "cell_type": "code",
   "execution_count": 183,
   "metadata": {},
   "outputs": [],
   "source": [
    "# Transformation matrices A\n",
    "# Primal nodes local-global transformation matrices\n",
    "APq = create_APq_matrices(mesh)\n",
    "\n",
    "# Remaining nodes local-global transformation matrices\n",
    "ARr = create_ARr_matrices(mesh)\n",
    "\n",
    "# Dirichlet nodes local-global transformation matrices\n",
    "ADd = create_ADq_matrices(mesh)"
   ]
  },
  {
   "cell_type": "code",
   "execution_count": 184,
   "metadata": {},
   "outputs": [],
   "source": [
    "# Stiffness matrices K\n",
    "KRR = assembly_KRR_matrix(Ks, ARr, rs, mesh)"
   ]
  },
  {
   "cell_type": "code",
   "execution_count": 185,
   "metadata": {},
   "outputs": [],
   "source": [
    "KPP = assembly_KPP_matrix(Ks, APq, qs, qs_right, mesh)"
   ]
  },
  {
   "cell_type": "code",
   "execution_count": 186,
   "metadata": {},
   "outputs": [
    {
     "data": {
      "text/plain": [
       "<matplotlib.image.AxesImage at 0x1e3ca9fc8b0>"
      ]
     },
     "execution_count": 186,
     "metadata": {},
     "output_type": "execute_result"
    },
    {
     "data": {
      "image/png": "[encoded data removed]",
      "text/plain": [
       "<Figure size 432x288 with 1 Axes>"
      ]
     },
     "metadata": {
      "needs_background": "light"
     },
     "output_type": "display_data"
    }
   ],
   "source": [
    "plt.spy(KPP)"
   ]
  },
  {
   "cell_type": "code",
   "execution_count": 187,
   "metadata": {},
   "outputs": [],
   "source": [
    "KRP, Krqs_list = assembly_KRP_matrix(Ks, APq, ARr, qs, qs_right, rs, mesh)"
   ]
  },
  {
   "cell_type": "code",
   "execution_count": 188,
   "metadata": {},
   "outputs": [],
   "source": [
    "KPR = KRP.T"
   ]
  },
  {
   "cell_type": "code",
   "execution_count": 189,
   "metadata": {},
   "outputs": [],
   "source": [
    "KPD = assembly_KPD_matrix(Ks, APq, ADd, qs_left_bound, qs_right, mesh)\n",
    "KRD = assembly_KRD_matrix(Ks, ARr, ADd, qs_left_bound, rs, mesh)"
   ]
  },
  {
   "cell_type": "code",
   "execution_count": 190,
   "metadata": {},
   "outputs": [],
   "source": [
    "# Plot K matrices\n",
    "# plot_sparse_matrix(KRR, 'KRR')\n",
    "# plot_sparse_matrix(KPP, 'KPP')\n",
    "# plot_sparse_matrix(KPR, 'KPR')\n",
    "# plot_sparse_matrix(KPD, 'KPD')\n",
    "# plot_sparse_matrix(KRD, 'KRD')"
   ]
  },
  {
   "cell_type": "code",
   "execution_count": 191,
   "metadata": {},
   "outputs": [],
   "source": [
    "# Assembly B matrices\n",
    "BlambdaR, Brs_list = assembly_BR_matrix(mesh, ARr)\n",
    "\n",
    "# Dirichlet boundary conditions\n",
    "# Left wall remaining\n",
    "BlambdaR, BRs_list = assembly_Dirichlet_BR_matrix(mesh, ARr, BlambdaR, Brs_list)\n",
    "\n",
    "#Left wall primal\n",
    "# BlambdaP = assembly_Dirichlet_BP_matrix(mesh, ADd)"
   ]
  },
  {
   "cell_type": "code",
   "execution_count": 192,
   "metadata": {},
   "outputs": [
    {
     "data": {
      "image/png": "[encoded data removed]",
      "text/plain": [
       "<Figure size 432x288 with 2 Axes>"
      ]
     },
     "metadata": {
      "needs_background": "light"
     },
     "output_type": "display_data"
    }
   ],
   "source": [
    "# Plot B matrix\n",
    "plot_sparse_matrix(BlambdaR, 'BR')"
   ]
  },
  {
   "cell_type": "code",
   "execution_count": 193,
   "metadata": {},
   "outputs": [],
   "source": [
    "# Assembly d vector\n",
    "d = np.zeros(mesh.Nlambda)\n",
    "d[mesh.NlambdaR:] = d_dat[np.arange(len(d_dat)) % (mesh.Nr_y - 1) != 0]"
   ]
  },
  {
   "cell_type": "code",
   "execution_count": 194,
   "metadata": {},
   "outputs": [],
   "source": [
    "# Assembly f vectors\n",
    "# fP\n",
    "fP, fD = assembly_fP_fD_vectors(mesh, fP_dat)\n",
    "\n",
    "# fR\n",
    "fR = assembly_fR_vector(mesh, fr_dat)"
   ]
  },
  {
   "cell_type": "code",
   "execution_count": 195,
   "metadata": {},
   "outputs": [],
   "source": [
    "# Assembly uD vector\n",
    "uD = d_dat[np.arange(len(d_dat)) % (mesh.Nr_y - 1) == 0]"
   ]
  },
  {
   "cell_type": "code",
   "execution_count": 196,
   "metadata": {},
   "outputs": [],
   "source": [
    "# Matrices pre computation\n",
    "from scipy.sparse.linalg import inv\n",
    "from scipy.sparse import identity\n",
    "\n",
    "KRR_inv = np.linalg.inv(KRR)\n",
    "# KRR_inv = inv(KRR)\n",
    "\n",
    "SPP = KPP - KPR @ KRR_inv @ KRP\n",
    "SPP_inv = np.linalg.inv(SPP)\n",
    "# SPP_inv = inv(SPP)\n",
    "\n",
    "fPH = fP - KPD @ uD\n",
    "fRH = fR - KRD @ uD\n",
    "\n",
    "IR = np.eye(mesh.NR) # RxR identity matrix\n",
    "# IR = identity(mesh.NR)\n",
    "\n",
    "dH = d - BlambdaR @ KRR_inv @ ((IR + KRP @ SPP_inv @ KPR @ KRR_inv) @ fRH - KRP @ SPP_inv @ fPH)\n",
    "F = -BlambdaR @ KRR_inv @ (KRP @ SPP_inv @ KPR @ KRR_inv + IR) @ BlambdaR.T"
   ]
  },
  {
   "cell_type": "code",
   "execution_count": 197,
   "metadata": {},
   "outputs": [],
   "source": [
    "# Print some matrices\n",
    "# plot_sparse_matrix(SPP, 'SPP')\n",
    "# plot_sparse_matrix(SPP_inv, 'SPP inverse')\n",
    "# plot_sparse_matrix(F, 'F')"
   ]
  },
  {
   "cell_type": "code",
   "execution_count": 198,
   "metadata": {},
   "outputs": [],
   "source": [
    "# System matrix check\n",
    "\n",
    "# zerosP = np.zeros((mesh.NP, mesh.NP))\n",
    "# zerosLambda = np.zeros((mesh.Nlambda, mesh.Nlambda))\n",
    "# zerosLambdaP = np.zeros((mesh.Nlambda, mesh.NP))\n",
    "\n",
    "# system_row0 = np.concatenate((zerosLambda, zerosLambdaP, BlambdaR), axis=1)\n",
    "# system_row1 = np.concatenate((zerosLambdaP.T, KPP, KPR), axis=1)\n",
    "# system_row2 = np.concatenate((BlambdaR.T, KRP, KRR), axis=1)\n",
    "\n",
    "# system = np.concatenate((system_row0, system_row1, system_row2), axis=0)\n",
    "\n",
    "# plot_sparse_matrix(system)\n",
    "# np.linalg.det(system)"
   ]
  },
  {
   "cell_type": "code",
   "execution_count": 199,
   "metadata": {},
   "outputs": [],
   "source": [
    "# Solve lambda linear system\n",
    "lambda_ = np.linalg.solve(F, dH)"
   ]
  },
  {
   "cell_type": "code",
   "execution_count": 200,
   "metadata": {},
   "outputs": [],
   "source": [
    "# Compute u\n",
    "# uP\n",
    "uP = SPP_inv @ (fPH - KPR @ KRR_inv @ fRH + KPR @ KRR_inv @ BlambdaR.T @ lambda_)\n",
    "\n",
    "# uR\n",
    "uR = KRR_inv @ (IR + KRP @ SPP_inv @ KPR @ KRR_inv) @ fRH \\\n",
    "    - KRR_inv @ KRP @ SPP_inv @ fPH \\\n",
    "    - KRR_inv @ (IR + KRP @ SPP_inv @ KPR @ KRR_inv) @ BlambdaR.T @ lambda_"
   ]
  },
  {
   "cell_type": "code",
   "execution_count": 201,
   "metadata": {},
   "outputs": [],
   "source": [
    "# Assembly u using real global coordinates\n",
    "u = assembly_u_solution(mesh, uD, uP, uR, BlambdaR)"
   ]
  },
  {
   "cell_type": "code",
   "execution_count": 202,
   "metadata": {},
   "outputs": [
    {
     "data": {
      "image/png": "[encoded data removed]",
      "text/plain": [
       "<Figure size 432x288 with 2 Axes>"
      ]
     },
     "metadata": {
      "needs_background": "light"
     },
     "output_type": "display_data"
    }
   ],
   "source": [
    "# Plot solution field as a matrix\n",
    "u_mat = u.reshape((mesh.Ntot_y, mesh.Ntot_x))\n",
    "plot_sparse_matrix(u_mat, 'Solution - u field')"
   ]
  },
  {
   "cell_type": "code",
   "execution_count": 203,
   "metadata": {},
   "outputs": [
    {
     "name": "stdout",
     "output_type": "stream",
     "text": [
      "The solution provided is as expected!\n"
     ]
    }
   ],
   "source": [
    "# Compare results with actual solution to check\n",
    "if np.allclose(u, solution):\n",
    "    print('The solution provided is as expected!')\n",
    "else:\n",
    "    print('Solution is not correct')"
   ]
  }
 ],
 "metadata": {
  "kernelspec": {
   "display_name": "ada",
   "language": "python",
   "name": "python3"
  },
  "language_info": {
   "codemirror_mode": {
    "name": "ipython",
    "version": 3
   },
   "file_extension": ".py",
   "mimetype": "text/x-python",
   "name": "python",
   "nbconvert_exporter": "python",
   "pygments_lexer": "ipython3",
   "version": "3.9.13"
  },
  "orig_nbformat": 4,
  "vscode": {
   "interpreter": {
    "hash": "a4bb9c81f8eab16a3a9439dae75e7221139fb6714345d5c49c732ff789ca1486"
   }
  }
 },
 "nbformat": 4,
 "nbformat_minor": 2
}
