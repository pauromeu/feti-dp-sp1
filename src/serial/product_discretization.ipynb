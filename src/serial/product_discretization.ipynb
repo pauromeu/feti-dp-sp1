{
 "cells": [
  {
   "cell_type": "code",
   "execution_count": 2,
   "metadata": {},
   "outputs": [
    {
     "name": "stdout",
     "output_type": "stream",
     "text": [
      "The autoreload extension is already loaded. To reload it, use:\n",
      "  %reload_ext autoreload\n"
     ]
    }
   ],
   "source": [
    "# Import modules\n",
    "import numpy as np\n",
    "import numpy.linalg as LA\n",
    "\n",
    "# Import functions\n",
    "from assembly_A_local_global_matrices import *\n",
    "from assembly_K_matrices import *\n",
    "from assembly_B_matrices import *\n",
    "from assembly_f_vectors import *\n",
    "from assembly_u_solution import *\n",
    "from RegularSudomainsMesh import RegularSubdomainsMesh\n",
    "from utils import *\n",
    "from cg import *\n",
    "\n",
    "%load_ext autoreload\n",
    "%autoreload 2"
   ]
  },
  {
   "cell_type": "code",
   "execution_count": 3,
   "metadata": {},
   "outputs": [],
   "source": [
    "# Import data\n",
    "d_dat = np.genfromtxt('data/d.dat')\n",
    "fP_dat = np.genfromtxt('data/fP.dat')\n",
    "fr_dat = np.genfromtxt('data/fr.dat')\n",
    "Ks = np.genfromtxt('data/localK.dat')\n",
    "solution = np.genfromtxt('data/solution.dat')"
   ]
  },
  {
   "cell_type": "code",
   "execution_count": 4,
   "metadata": {},
   "outputs": [],
   "source": [
    "# Initial data\n",
    "# Number of subdomains\n",
    "Nsub_x = 4\n",
    "Nsub_y = 3\n",
    "\n",
    "# Number of remaining nodes in each subdomain\n",
    "Nr_x = 4\n",
    "Nr_y = 3\n",
    "\n",
    "# Local remaining and primal indices\n",
    "rs = np.array([1, 2, 4, 5, 6, 7, 9, 10])\n",
    "qs = np.array([0, 3, 8, 11])\n",
    "qs_left_bound = np.array([0, 8])\n",
    "qs_right = np.array([3, 11])"
   ]
  },
  {
   "cell_type": "code",
   "execution_count": 5,
   "metadata": {},
   "outputs": [],
   "source": [
    "# Create mesh\n",
    "mesh = RegularSubdomainsMesh(Nsub_x, Nsub_y, Nr_x, Nr_y)"
   ]
  },
  {
   "cell_type": "code",
   "execution_count": 6,
   "metadata": {},
   "outputs": [],
   "source": [
    "# Transformation matrices A\n",
    "# Primal nodes local-global transformation matrices\n",
    "APq = create_APq_matrices(mesh)\n",
    "\n",
    "# Remaining nodes local-global transformation matrices\n",
    "ARr = create_ARr_matrices(mesh)\n",
    "\n",
    "# Dirichlet nodes local-global transformation matrices\n",
    "ADd = create_ADq_matrices(mesh)"
   ]
  },
  {
   "cell_type": "code",
   "execution_count": 7,
   "metadata": {},
   "outputs": [],
   "source": [
    "# Stiffness matrices K\n",
    "KRR = assembly_KRR_matrix(Ks, ARr, rs, mesh)\n",
    "KPP = assembly_KPP_matrix(Ks, APq, qs, qs_right, mesh)\n",
    "KRP, Krqs_list = assembly_KRP_matrix(Ks, APq, ARr, qs, qs_right, rs, mesh)\n",
    "KPR = KRP.T\n",
    "Kqrs_list = [Krqs.T for Krqs in Krqs_list]\n",
    "KPD = assembly_KPD_matrix(Ks, APq, ADd, qs_left_bound, qs_right, mesh)\n",
    "KRD = assembly_KRD_matrix(Ks, ARr, ADd, qs_left_bound, rs, mesh)"
   ]
  },
  {
   "cell_type": "code",
   "execution_count": 8,
   "metadata": {},
   "outputs": [],
   "source": [
    "# Assembly B matrices\n",
    "BlambdaR, BRs_list = assembly_BR_matrix(mesh, ARr)\n",
    "\n",
    "# Dirichlet boundary conditions\n",
    "# Left wall remaining\n",
    "BlambdaR, BRs_list = assembly_Dirichlet_BR_matrix(mesh, ARr, BlambdaR, BRs_list)"
   ]
  },
  {
   "cell_type": "code",
   "execution_count": 9,
   "metadata": {},
   "outputs": [],
   "source": [
    "# Assembly d vector\n",
    "d = np.zeros(mesh.Nlambda)\n",
    "d[mesh.NlambdaR:] = d_dat[np.arange(len(d_dat)) % (mesh.Nr_y - 1) != 0]"
   ]
  },
  {
   "cell_type": "code",
   "execution_count": 10,
   "metadata": {},
   "outputs": [],
   "source": [
    "# Assembly f vectors\n",
    "# fP\n",
    "fP, fD = assembly_fP_fD_vectors(mesh, fP_dat)\n",
    "\n",
    "# fR\n",
    "fR = assembly_fR_vector(mesh, fr_dat)"
   ]
  },
  {
   "cell_type": "code",
   "execution_count": 11,
   "metadata": {},
   "outputs": [],
   "source": [
    "# Assembly uD vector\n",
    "uD = d_dat[np.arange(len(d_dat)) % (mesh.Nr_y - 1) == 0]"
   ]
  },
  {
   "cell_type": "code",
   "execution_count": 47,
   "metadata": {},
   "outputs": [],
   "source": [
    "# Matrices pre computation"
   ]
  },
  {
   "cell_type": "code",
   "execution_count": 43,
   "metadata": {},
   "outputs": [],
   "source": [
    "# Matrices pre computation\n",
    "KRR_inv = np.linalg.inv(KRR)\n",
    "\n",
    "SPP = KPP - KPR @ KRR_inv @ KRP\n",
    "SPP_inv = np.linalg.inv(SPP)\n",
    "\n",
    "fPH = fP - KPD @ uD\n",
    "fRH = fR - KRD @ uD\n",
    "\n",
    "IR = np.eye(mesh.NR) # RxR identity matrix\n",
    "\n",
    "dH = d - BlambdaR @ KRR_inv @ ((IR + KRP @ SPP_inv @ KPR @ KRR_inv) @ fRH - KRP @ SPP_inv @ fPH)\n",
    "F = -BlambdaR @ KRR_inv @ (KRP @ SPP_inv @ KPR @ KRR_inv + IR) @ BlambdaR.T"
   ]
  },
  {
   "cell_type": "code",
   "execution_count": 13,
   "metadata": {},
   "outputs": [],
   "source": [
    "z = np.array([0.11097952, 0.76367948, 0.3643149 , 0.43658249, 0.54056894,\n",
    "       0.62960657, 0.46773485, 0.57270768, 0.02533156, 0.96696452,\n",
    "       0.33969156, 0.23758129, 0.2509545 , 0.84673038, 0.435943  ,\n",
    "       0.19422253, 0.61608355, 0.24816213, 0.08060656, 0.04745991,\n",
    "       0.03908529, 0.70291525, 0.35247435, 0.63742649, 0.21508681,\n",
    "       0.77903499, 0.27058676, 0.29763978])"
   ]
  },
  {
   "cell_type": "code",
   "execution_count": 18,
   "metadata": {},
   "outputs": [],
   "source": [
    "lambdar = np.linalg.solve(F, dH)"
   ]
  },
  {
   "cell_type": "code",
   "execution_count": 19,
   "metadata": {},
   "outputs": [
    {
     "name": "stdout",
     "output_type": "stream",
     "text": [
      "Number of iterations required: 14\n"
     ]
    }
   ],
   "source": [
    "# Conjugate gradient\n",
    "def cg(A, b, x, tol=1e-10):\n",
    "    r = b - np.dot(A, x)\n",
    "    p = r.copy()\n",
    "    rsold = np.dot(r.T, r)\n",
    "\n",
    "    for i in range(len(b)):\n",
    "        Ap = np.dot(A, p)\n",
    "        alpha = rsold / np.dot(p.T, Ap)\n",
    "        x = x + alpha * p\n",
    "        r = r - alpha * Ap\n",
    "        rsnew = np.dot(r.T, r)\n",
    "        if np.sqrt(rsnew) < tol:\n",
    "            break\n",
    "        p = r + (rsnew / rsold) * p\n",
    "        rsold = rsnew\n",
    "\n",
    "    print(f\"Number of iterations required: {i + 1}\")\n",
    "    return x\n",
    "\n",
    "lambdacg = cg(F, dH, np.zeros_like(dH))"
   ]
  },
  {
   "cell_type": "code",
   "execution_count": 34,
   "metadata": {},
   "outputs": [
    {
     "data": {
      "text/plain": [
       "array([0., 0., 0., 0., 0., 0., 0., 0., 0., 0., 0., 0., 0., 0., 0., 0., 0.,\n",
       "       0., 0., 0., 0., 0., 0., 0., 0., 0., 0., 0.])"
      ]
     },
     "execution_count": 34,
     "metadata": {},
     "output_type": "execute_result"
    }
   ],
   "source": [
    "res = lambdar - lambdacg\n",
    "res[res < 1e-10] = 0\n",
    "res"
   ]
  },
  {
   "cell_type": "code",
   "execution_count": 49,
   "metadata": {},
   "outputs": [
    {
     "name": "stdout",
     "output_type": "stream",
     "text": [
      "Number of iterations required: 14\n"
     ]
    }
   ],
   "source": [
    "def subdomains_mat_vec_multiplication(p, APq, Kqrs_list, BRs_list, Krrs_inv, LA_SPP):\n",
    "    # In parallel\n",
    "    x = np.zeros(APq[0].shape[0])\n",
    "    for (Apqs, Kqrs, Brs) in zip(APq, Kqrs_list, BRs_list):\n",
    "        x += Apqs @ Kqrs @ Krrs_inv @ Brs.T @ p\n",
    "\n",
    "    alpha = solve_cholesky(LA_SPP, x)\n",
    "\n",
    "    n = BRs_list[0].shape[0]\n",
    "\n",
    "    a = np.zeros(n)\n",
    "    for (BRs, Kqrs, Apqs) in zip(BRs_list, Kqrs_list, APq):\n",
    "        a += BRs @ Krrs_inv @ Kqrs.T @ Apqs.T @ alpha\n",
    "\n",
    "    b = np.zeros(n)\n",
    "    for BRs in BRs_list:\n",
    "        b += BRs @ Krrs_inv @ BRs.T @ p\n",
    "\n",
    "    Fp = -(a + b)\n",
    "    return Fp\n",
    "\n",
    "def cg_feti(d, lamb, tol=1e-10):\n",
    "    Krrs = Ks[rs][:, rs]\n",
    "    Krrs_inv = LA.inv(Krrs)\n",
    "    LA_SPP = LA.cholesky(SPP)\n",
    "\n",
    "    #r = d - np.dot(F, lamb)\n",
    "    r = d - subdomains_mat_vec_multiplication(lamb, APq, Kqrs_list, BRs_list, Krrs_inv, LA_SPP)\n",
    "    p = r.copy()\n",
    "    rsold = np.dot(r.T, r)\n",
    "\n",
    "    for i in range(len(d)):\n",
    "        #Fp = np.dot(F, p)\n",
    "        Fp = subdomains_mat_vec_multiplication(p, APq, Kqrs_list, BRs_list, Krrs_inv, LA_SPP)\n",
    "        alpha = rsold / np.dot(p.T, Fp)\n",
    "        lamb = lamb + alpha * p\n",
    "        r = r - alpha * Fp\n",
    "        rsnew = np.dot(r.T, r)\n",
    "        if np.sqrt(rsnew) < tol:\n",
    "            break\n",
    "        p = r + (rsnew / rsold) * p\n",
    "        rsold = rsnew\n",
    "\n",
    "    print(f\"Number of iterations required: {i + 1}\")\n",
    "    return lamb\n",
    "\n",
    "lambdafeti = cg_feti(dH, np.zeros_like(dH))\n",
    "\n"
   ]
  },
  {
   "cell_type": "code",
   "execution_count": 47,
   "metadata": {},
   "outputs": [
    {
     "data": {
      "text/plain": [
       "array([0., 0., 0., 0., 0., 0., 0., 0., 0., 0., 0., 0., 0., 0., 0., 0., 0.,\n",
       "       0., 0., 0., 0., 0., 0., 0., 0., 0., 0., 0.])"
      ]
     },
     "execution_count": 47,
     "metadata": {},
     "output_type": "execute_result"
    }
   ],
   "source": [
    "res = lambdacg - lambdafeti\n",
    "res[res < 1e-10] = 0\n",
    "res"
   ]
  },
  {
   "cell_type": "code",
   "execution_count": 45,
   "metadata": {},
   "outputs": [
    {
     "data": {
      "text/plain": [
       "array([0., 0., 0., 0., 0., 0., 0., 0., 0., 0., 0., 0., 0., 0., 0., 0., 0.,\n",
       "       0., 0., 0., 0., 0., 0., 0., 0., 0., 0., 0.])"
      ]
     },
     "execution_count": 45,
     "metadata": {},
     "output_type": "execute_result"
    }
   ],
   "source": [
    "#Matrix vector multiplication F*z\n",
    "z = np.array([0.11097952, 0.76367948, 0.3643149 , 0.43658249, 0.54056894,\n",
    "       0.62960657, 0.46773485, 0.57270768, 0.02533156, 0.96696452,\n",
    "       0.33969156, 0.23758129, 0.2509545 , 0.84673038, 0.435943  ,\n",
    "       0.19422253, 0.61608355, 0.24816213, 0.08060656, 0.04745991,\n",
    "       0.03908529, 0.70291525, 0.35247435, 0.63742649, 0.21508681,\n",
    "       0.77903499, 0.27058676, 0.29763978])\n",
    "\n",
    "x = np.zeros(np.shape(KPR)[0])\n",
    "\n",
    "Krrs = Ks[rs][:, rs]\n",
    "Kqrs = Ks[qs][:, rs]\n",
    "Krrs_inv = LA.inv(Krrs)\n",
    "LA_Krrs = LA.cholesky(Krrs)\n",
    "LA_SPP = LA.cholesky(SPP)\n",
    "Krrs_inv = LA.inv(Krrs)\n",
    "\n",
    "# In parallel\n",
    "for (Apqs, Kqrs, Brs) in zip (APq, Kqrs_list, BRs_list):\n",
    "    x += Apqs @ Kqrs @ Krrs_inv @ Brs.T @ z\n",
    "\n",
    "alpha = solve_cholesky(LA_SPP, x)\n",
    "\n",
    "a = np.zeros(np.shape(BlambdaR)[0])\n",
    "ar = BlambdaR @ KRR_inv @ KRP @ alpha\n",
    "\n",
    "# Sync required!\n",
    "for (BRs, Kqrs, Apqs) in zip (BRs_list, Kqrs_list, APq):\n",
    "    a += BRs @ Krrs_inv @ Kqrs.T @ Apqs.T @ alpha\n",
    "\n",
    "b = np.zeros(np.shape(BlambdaR)[0])\n",
    "br = BlambdaR @ KRR_inv @ BlambdaR.T @ z\n",
    "\n",
    "for BRs in BRs_list:\n",
    "    b += BRs @ Krrs_inv @ BRs.T @ z\n",
    "\n",
    "Fz = - a - b\n",
    "\n",
    "res = Fz - F@z\n",
    "res[res < 1e-10] = 0\n",
    "res"
   ]
  },
  {
   "cell_type": "code",
   "execution_count": 60,
   "metadata": {},
   "outputs": [
    {
     "ename": "ValueError",
     "evalue": "operands could not be broadcast together with shapes (28,) (16,) (28,) ",
     "output_type": "error",
     "traceback": [
      "\u001b[1;31m---------------------------------------------------------------------------\u001b[0m",
      "\u001b[1;31mValueError\u001b[0m                                Traceback (most recent call last)",
      "\u001b[1;32m~\\AppData\\Local\\Temp/ipykernel_24412/2595364965.py\u001b[0m in \u001b[0;36m<module>\u001b[1;34m\u001b[0m\n\u001b[0;32m      1\u001b[0m \u001b[0mx\u001b[0m \u001b[1;33m=\u001b[0m \u001b[0mnp\u001b[0m\u001b[1;33m.\u001b[0m\u001b[0mrandom\u001b[0m\u001b[1;33m.\u001b[0m\u001b[0mrand\u001b[0m\u001b[1;33m(\u001b[0m\u001b[0mdH\u001b[0m\u001b[1;33m.\u001b[0m\u001b[0mshape\u001b[0m\u001b[1;33m[\u001b[0m\u001b[1;36m0\u001b[0m\u001b[1;33m]\u001b[0m\u001b[1;33m)\u001b[0m\u001b[1;33m\u001b[0m\u001b[1;33m\u001b[0m\u001b[0m\n\u001b[1;32m----> 2\u001b[1;33m \u001b[0msolution\u001b[0m \u001b[1;33m=\u001b[0m \u001b[0mconjgrad\u001b[0m\u001b[1;33m(\u001b[0m\u001b[0mF\u001b[0m\u001b[1;33m,\u001b[0m \u001b[0mdH\u001b[0m\u001b[1;33m,\u001b[0m \u001b[0mx\u001b[0m\u001b[1;33m,\u001b[0m \u001b[0mKs\u001b[0m\u001b[1;33m,\u001b[0m \u001b[0mrs\u001b[0m\u001b[1;33m,\u001b[0m \u001b[0mqs\u001b[0m\u001b[1;33m,\u001b[0m \u001b[0mAPq\u001b[0m\u001b[1;33m,\u001b[0m \u001b[0mKqrs_list\u001b[0m\u001b[1;33m,\u001b[0m \u001b[0mBRs_list\u001b[0m\u001b[1;33m,\u001b[0m \u001b[0mBlambdaR\u001b[0m\u001b[1;33m,\u001b[0m \u001b[0mKRR_inv\u001b[0m\u001b[1;33m,\u001b[0m \u001b[0mKRP\u001b[0m\u001b[1;33m,\u001b[0m \u001b[0mSPP\u001b[0m\u001b[1;33m)\u001b[0m\u001b[1;33m\u001b[0m\u001b[1;33m\u001b[0m\u001b[0m\n\u001b[0m",
      "\u001b[1;32mc:\\Users\\34683\\Desktop\\CSE_EPFL\\SP1_CSE\\feti-dp-sp1\\code\\serial\\cg.py\u001b[0m in \u001b[0;36mconjgrad\u001b[1;34m(A, b, x, *args)\u001b[0m\n\u001b[0;32m     60\u001b[0m     \u001b[0mKrrs_inv\u001b[0m \u001b[1;33m=\u001b[0m \u001b[0minv\u001b[0m\u001b[1;33m(\u001b[0m\u001b[0mKrrs\u001b[0m\u001b[1;33m)\u001b[0m\u001b[1;33m\u001b[0m\u001b[1;33m\u001b[0m\u001b[0m\n\u001b[0;32m     61\u001b[0m     \u001b[0mLA_SPP\u001b[0m \u001b[1;33m=\u001b[0m \u001b[0mcholesky\u001b[0m\u001b[1;33m(\u001b[0m\u001b[0mSPP\u001b[0m\u001b[1;33m)\u001b[0m\u001b[1;33m\u001b[0m\u001b[1;33m\u001b[0m\u001b[0m\n\u001b[1;32m---> 62\u001b[1;33m \u001b[1;33m\u001b[0m\u001b[0m\n\u001b[0m\u001b[0;32m     63\u001b[0m     r = b - custom_matrix_vector_multiplication(x, A.shape, Ks, rs, qs, APq,\n\u001b[0;32m     64\u001b[0m                                                 Kqrs_list, BRs_list, BlambdaR, KRR_inv, KRP, SPP, Krrs_inv, LA_SPP)\n",
      "\u001b[1;32mc:\\Users\\34683\\Desktop\\CSE_EPFL\\SP1_CSE\\feti-dp-sp1\\code\\serial\\cg.py\u001b[0m in \u001b[0;36mcustom_matrix_vector_multiplication\u001b[1;34m(p, KPR_shape, Ks, rs, qs, APq, Kqrs_list, BRs_list, BlambdaR, KRR_inv, KRP, SPP, Krrs_inv, LA_SPP)\u001b[0m\n\u001b[0;32m     32\u001b[0m     \u001b[0mprint\u001b[0m\u001b[1;33m(\u001b[0m\u001b[0mAPq\u001b[0m\u001b[1;33m,\u001b[0m \u001b[0mKqrs_list\u001b[0m\u001b[1;33m,\u001b[0m \u001b[0mBRs_list\u001b[0m\u001b[1;33m)\u001b[0m\u001b[1;33m\u001b[0m\u001b[1;33m\u001b[0m\u001b[0m\n\u001b[0;32m     33\u001b[0m \u001b[1;33m\u001b[0m\u001b[0m\n\u001b[1;32m---> 34\u001b[1;33m     \u001b[1;31m# In parallel\u001b[0m\u001b[1;33m\u001b[0m\u001b[1;33m\u001b[0m\u001b[0m\n\u001b[0m\u001b[0;32m     35\u001b[0m     \u001b[1;32mfor\u001b[0m \u001b[1;33m(\u001b[0m\u001b[0mApqs\u001b[0m\u001b[1;33m,\u001b[0m \u001b[0mKqrs\u001b[0m\u001b[1;33m,\u001b[0m \u001b[0mBrs\u001b[0m\u001b[1;33m)\u001b[0m \u001b[1;32min\u001b[0m \u001b[0mzip\u001b[0m\u001b[1;33m(\u001b[0m\u001b[0mAPq\u001b[0m\u001b[1;33m,\u001b[0m \u001b[0mKqrs_list\u001b[0m\u001b[1;33m,\u001b[0m \u001b[0mBRs_list\u001b[0m\u001b[1;33m)\u001b[0m\u001b[1;33m:\u001b[0m\u001b[1;33m\u001b[0m\u001b[1;33m\u001b[0m\u001b[0m\n\u001b[0;32m     36\u001b[0m         \u001b[0mprint\u001b[0m\u001b[1;33m(\u001b[0m\u001b[0mApqs\u001b[0m\u001b[1;33m.\u001b[0m\u001b[0mshape\u001b[0m\u001b[1;33m,\u001b[0m \u001b[0mKqrs\u001b[0m\u001b[1;33m.\u001b[0m\u001b[0mshape\u001b[0m\u001b[1;33m,\u001b[0m \u001b[0mKrrs_inv\u001b[0m\u001b[1;33m.\u001b[0m\u001b[0mshape\u001b[0m\u001b[1;33m,\u001b[0m \u001b[0mBrs\u001b[0m\u001b[1;33m.\u001b[0m\u001b[0mT\u001b[0m\u001b[1;33m.\u001b[0m\u001b[0mshape\u001b[0m\u001b[1;33m,\u001b[0m \u001b[0mp\u001b[0m\u001b[1;33m.\u001b[0m\u001b[0mshape\u001b[0m\u001b[1;33m)\u001b[0m\u001b[1;33m\u001b[0m\u001b[1;33m\u001b[0m\u001b[0m\n",
      "\u001b[1;31mValueError\u001b[0m: operands could not be broadcast together with shapes (28,) (16,) (28,) "
     ]
    }
   ],
   "source": [
    "x = np.random.rand(dH.shape[0])\n",
    "solution = conjgrad(F, dH, x, Ks, rs, qs, APq, Kqrs_list, BRs_list, BlambdaR, KRR_inv, KRP, SPP)"
   ]
  },
  {
   "cell_type": "markdown",
   "metadata": {},
   "source": []
  },
  {
   "cell_type": "code",
   "execution_count": 28,
   "metadata": {},
   "outputs": [],
   "source": [
    "lambdar_ = np.linalg.solve(F, dH)"
   ]
  },
  {
   "cell_type": "code",
   "execution_count": 34,
   "metadata": {},
   "outputs": [
    {
     "name": "stdout",
     "output_type": "stream",
     "text": [
      "3.9870673621093533\n",
      "0.4268491365454639\n",
      "0.08802777248047838\n",
      "0.007650723291611664\n",
      "0.0011464989352788168\n",
      "0.0001071037161749479\n",
      "2.4653842119270505e-05\n",
      "1.4816847249774737e-06\n",
      "2.332701247045686e-07\n",
      "1.5968470448019577e-08\n",
      "7.218403380679716e-09\n",
      "3.7990163905856596e-10\n",
      "2.793923281472931e-11\n",
      "3.1134525687140915e-12\n",
      "3.7500648639272066e-14\n",
      "8.41037404606813e-15\n",
      "2.7703475979938214e-16\n",
      "4.267719479056176e-18\n",
      "4.2601743094234153e-20\n",
      "4.0710649268401765e-21\n",
      "Number of iterations required: 20\n"
     ]
    }
   ],
   "source": [
    "lambda_ = cg(F, dH, np.random.rand(dH.shape[0]))"
   ]
  },
  {
   "cell_type": "code",
   "execution_count": 32,
   "metadata": {},
   "outputs": [
    {
     "ename": "NameError",
     "evalue": "name 'b' is not defined",
     "output_type": "error",
     "traceback": [
      "\u001b[1;31m---------------------------------------------------------------------------\u001b[0m",
      "\u001b[1;31mNameError\u001b[0m                                 Traceback (most recent call last)",
      "\u001b[1;32m~\\AppData\\Local\\Temp/ipykernel_24412/4221110780.py\u001b[0m in \u001b[0;36m<module>\u001b[1;34m\u001b[0m\n\u001b[1;32m----> 1\u001b[1;33m \u001b[0mx\u001b[0m \u001b[1;33m=\u001b[0m \u001b[0mnp\u001b[0m\u001b[1;33m.\u001b[0m\u001b[0mrandom\u001b[0m\u001b[1;33m.\u001b[0m\u001b[0mrand\u001b[0m\u001b[1;33m(\u001b[0m\u001b[0mb\u001b[0m\u001b[1;33m.\u001b[0m\u001b[0mshape\u001b[0m\u001b[1;33m[\u001b[0m\u001b[1;36m0\u001b[0m\u001b[1;33m]\u001b[0m\u001b[1;33m)\u001b[0m\u001b[1;33m\u001b[0m\u001b[1;33m\u001b[0m\u001b[0m\n\u001b[0m",
      "\u001b[1;31mNameError\u001b[0m: name 'b' is not defined"
     ]
    }
   ],
   "source": []
  },
  {
   "cell_type": "code",
   "execution_count": 33,
   "metadata": {},
   "outputs": [
    {
     "data": {
      "text/plain": [
       "array([0., 0., 0., 0., 0., 0., 0., 0., 0., 0., 0., 0., 0., 0., 0., 0., 0.,\n",
       "       0., 0., 0., 0., 0., 0., 0., 0., 0., 0., 0.])"
      ]
     },
     "execution_count": 33,
     "metadata": {},
     "output_type": "execute_result"
    }
   ],
   "source": [
    "err = lambdar_ - lambda_\n",
    "err[err < 1e-10] = 0\n",
    "err"
   ]
  },
  {
   "cell_type": "code",
   "execution_count": null,
   "metadata": {},
   "outputs": [],
   "source": []
  }
 ],
 "metadata": {
  "kernelspec": {
   "display_name": "cla-epfl",
   "language": "python",
   "name": "python3"
  },
  "language_info": {
   "codemirror_mode": {
    "name": "ipython",
    "version": 3
   },
   "file_extension": ".py",
   "mimetype": "text/x-python",
   "name": "python",
   "nbconvert_exporter": "python",
   "pygments_lexer": "ipython3",
   "version": "3.9.16"
  },
  "orig_nbformat": 4,
  "vscode": {
   "interpreter": {
    "hash": "f17ef60e80266d10a47a00e5d7a378d77c0565d574ef5c8f5cec5dba825e9597"
   }
  }
 },
 "nbformat": 4,
 "nbformat_minor": 2
}
