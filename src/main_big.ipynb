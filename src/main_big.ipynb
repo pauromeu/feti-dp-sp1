{
 "cells": [
  {
   "cell_type": "code",
   "execution_count": 95,
   "metadata": {},
   "outputs": [
    {
     "name": "stdout",
     "output_type": "stream",
     "text": [
      "The autoreload extension is already loaded. To reload it, use:\n",
      "  %reload_ext autoreload\n"
     ]
    }
   ],
   "source": [
    "# Import modules\n",
    "import numpy as np\n",
    "import matplotlib.pyplot as plt\n",
    "\n",
    "# Import functions\n",
    "from common.SubdomainsMesh import SubdomainsMesh\n",
    "\n",
    "%load_ext autoreload\n",
    "%autoreload 2"
   ]
  },
  {
   "cell_type": "code",
   "execution_count": 96,
   "metadata": {},
   "outputs": [
    {
     "data": {
      "image/png": "[encoded data removed]",
      "text/plain": [
       "<Figure size 432x288 with 2 Axes>"
      ]
     },
     "metadata": {
      "needs_background": "light"
     },
     "output_type": "display_data"
    }
   ],
   "source": [
    "# Big\n",
    "# Import data\n",
    "fs = np.genfromtxt('../data/big/localF.dat')\n",
    "Ks = np.genfromtxt('../data/big/localK.dat')\n",
    "\n",
    "left_r = np.array([192, 188, 184, 471, 207, 202, 197, 412, 90, 91, 92])\n",
    "right_r = np.array([268, 267, 266, 377, 28, 33, 38, 372, 15, 19, 23])\n",
    "bottom_r = np.array([180, 179, 178, 455, 285, 290, 295, 500, 272, 276, 280])\n",
    "top_r = np.array([104, 100, 96, 428, 119, 114, 109, 356, 9, 10, 11])\n",
    "\n",
    "bounds_r = [left_r, right_r, bottom_r, top_r]\n",
    "\n",
    "# Initial data\n",
    "# Number of subdomains\n",
    "Nsub_x = 3\n",
    "Nsub_y = 3\n",
    "\n",
    "qs_bottom_left = 460\n",
    "qs_bottom_right = 489\n",
    "qs_top_left = 417\n",
    "qs_top_right = 361\n",
    "\n",
    "qs = [qs_bottom_left, qs_bottom_right, qs_top_left, qs_top_right]\n",
    "\n",
    "rs = np.setdiff1d(np.arange(len(fs)), qs)\n",
    "\n",
    "m = SubdomainsMesh(Nsub_x, Nsub_y, Ks, fs, qs, rs, bounds_r)\n",
    "\n",
    "m.set_A_global_local_matrices()\n",
    "m.set_K_matrices()\n",
    "m.set_B_matrices()\n",
    "m.set_f_vectors()\n",
    "m.set_d_vector()\n",
    "m.set_uD_vector()\n",
    "m.solve()\n",
    "m.uP\n",
    "\n",
    "m.plot_u_boundaries()"
   ]
  },
  {
   "cell_type": "code",
   "execution_count": 97,
   "metadata": {},
   "outputs": [
    {
     "data": {
      "image/png": "[encoded data removed]",
      "text/plain": [
       "<Figure size 432x288 with 2 Axes>"
      ]
     },
     "metadata": {
      "needs_background": "light"
     },
     "output_type": "display_data"
    },
    {
     "data": {
      "text/plain": [
       "array([ 3.19444444e-01,  6.11111111e-01, -2.22044605e-16,  3.19444444e-01,\n",
       "        6.11111111e-01,  8.75000000e-01,  3.19444444e-01,  6.11111111e-01,\n",
       "        1.11111111e+00,  1.31944444e+00,  8.75000000e-01,  1.11111111e+00,\n",
       "        1.31944444e+00,  1.50000000e+00,  1.11111111e+00,  1.31944444e+00,\n",
       "        1.65277778e+00,  1.77777778e+00,  1.50000000e+00,  1.65277778e+00,\n",
       "        1.77777778e+00,  1.87500000e+00,  1.65277778e+00,  1.77777778e+00,\n",
       "        1.94444444e+00,  1.98611111e+00,  1.87500000e+00,  1.94444444e+00,\n",
       "        1.98611111e+00,  2.00000000e+00,  1.94444444e+00,  1.98611111e+00,\n",
       "        3.19444444e-01,  6.11111111e-01,  4.44089210e-16,  3.19444444e-01,\n",
       "        6.11111111e-01,  8.75000000e-01,  3.19444444e-01,  6.11111111e-01,\n",
       "        1.11111111e+00,  1.31944444e+00,  8.75000000e-01,  1.11111111e+00,\n",
       "        1.31944444e+00,  1.50000000e+00,  1.11111111e+00,  1.31944444e+00,\n",
       "        1.65277778e+00,  1.77777778e+00,  1.50000000e+00,  1.65277778e+00,\n",
       "        1.77777778e+00,  1.87500000e+00,  1.65277778e+00,  1.77777778e+00,\n",
       "        1.94444444e+00,  1.98611111e+00,  1.87500000e+00,  1.94444444e+00,\n",
       "        1.98611111e+00,  2.00000000e+00,  1.94444444e+00,  1.98611111e+00,\n",
       "        3.19444444e-01,  6.11111111e-01,  0.00000000e+00,  3.19444444e-01,\n",
       "        6.11111111e-01,  8.75000000e-01,  3.19444444e-01,  6.11111111e-01,\n",
       "        1.11111111e+00,  1.31944444e+00,  8.75000000e-01,  1.11111111e+00,\n",
       "        1.31944444e+00,  1.50000000e+00,  1.11111111e+00,  1.31944444e+00,\n",
       "        1.65277778e+00,  1.77777778e+00,  1.50000000e+00,  1.65277778e+00,\n",
       "        1.77777778e+00,  1.87500000e+00,  1.65277778e+00,  1.77777778e+00,\n",
       "        1.94444444e+00,  1.98611111e+00,  1.87500000e+00,  1.94444444e+00,\n",
       "        1.98611111e+00,  2.00000000e+00,  1.94444444e+00,  1.98611111e+00])"
      ]
     },
     "execution_count": 97,
     "metadata": {},
     "output_type": "execute_result"
    }
   ],
   "source": [
    "# SMALL\n",
    "# Import data\n",
    "fs = np.genfromtxt('../data/big/localF_small.dat')\n",
    "Ks = np.genfromtxt('../data/big/localK_small.dat')\n",
    "\n",
    "left_r = np.array([4])\n",
    "right_r = np.array([7])\n",
    "bottom_r = np.array([1, 2])\n",
    "top_r = np.array([9, 10])\n",
    "\n",
    "bounds_r = [left_r, right_r, bottom_r, top_r]\n",
    "\n",
    "# Initial data\n",
    "# Number of subdomains\n",
    "Nsub_x = 4\n",
    "Nsub_y = 3\n",
    "\n",
    "qs_bottom_left = 0\n",
    "qs_bottom_right = 3\n",
    "qs_top_left = 8\n",
    "qs_top_right = 11\n",
    "\n",
    "qs = [qs_bottom_left, qs_bottom_right, qs_top_left, qs_top_right]\n",
    "\n",
    "rs = np.setdiff1d(np.arange(len(fs)), qs)\n",
    "\n",
    "m1 = SubdomainsMesh(Nsub_x, Nsub_y, Ks, fs, qs, rs, bounds_r)\n",
    "\n",
    "m1.set_A_global_local_matrices()\n",
    "m1.set_K_matrices()\n",
    "m1.set_B_matrices()\n",
    "m1.set_f_vectors()\n",
    "m1.set_d_vector()\n",
    "m1.set_uD_vector()\n",
    "m1.solve()\n",
    "m1.uP\n",
    "\n",
    "m1.plot_u_boundaries()\n",
    "\n",
    "m1.uR"
   ]
  },
  {
   "cell_type": "code",
   "execution_count": 98,
   "metadata": {},
   "outputs": [
    {
     "name": "stdout",
     "output_type": "stream",
     "text": [
      "[[ 26. -14.   0.   0.   1. -13.   0.   0.   0.   0.   0.   0.]\n",
      " [-14.  52. -14.   0. -13.   2. -13.   0.   0.   0.   0.   0.]\n",
      " [  0. -14.  52. -14.   0. -13.   2. -13.   0.   0.   0.   0.]\n",
      " [  0.   0. -14.  26.   0.   0. -13.   1.   0.   0.   0.   0.]\n",
      " [  1. -13.   0.   0.  52. -28.   0.   0.   1. -13.   0.   0.]\n",
      " [-13.   2. -13.   0. -28. 104. -28.   0. -13.   2. -13.   0.]\n",
      " [  0. -13.   2. -13.   0. -28. 104. -28.   0. -13.   2. -13.]\n",
      " [  0.   0. -13.   1.   0.   0. -28.  52.   0.   0. -13.   1.]\n",
      " [  0.   0.   0.   0.   1. -13.   0.   0.  26. -14.   0.   0.]\n",
      " [  0.   0.   0.   0. -13.   2. -13.   0. -14.  52. -14.   0.]\n",
      " [  0.   0.   0.   0.   0. -13.   2. -13.   0. -14.  52. -14.]\n",
      " [  0.   0.   0.   0.   0.   0. -13.   1.   0.   0. -14.  26.]]\n"
     ]
    }
   ],
   "source": [
    "print(m1.Ks / 0.02777777777777777)"
   ]
  },
  {
   "cell_type": "code",
   "execution_count": 99,
   "metadata": {},
   "outputs": [
    {
     "data": {
      "image/png": "[encoded data removed]",
      "text/plain": [
       "<Figure size 432x288 with 2 Axes>"
      ]
     },
     "metadata": {
      "needs_background": "light"
     },
     "output_type": "display_data"
    },
    {
     "data": {
      "image/png": "[encoded data removed]",
      "text/plain": [
       "<Figure size 432x288 with 2 Axes>"
      ]
     },
     "metadata": {
      "needs_background": "light"
     },
     "output_type": "display_data"
    }
   ],
   "source": [
    "from common.HeatTransferProblem import HeatTransferProblem\n",
    "from common.utils import plot_sparse_matrix\n",
    "\n",
    "nx = 4\n",
    "ny = 4\n",
    "Nsub_x, Nsub_y = [3,3]\n",
    "\n",
    "p = HeatTransferProblem(nx, ny)\n",
    "m2 = SubdomainsMesh.from_problem(Nsub_x, Nsub_y, p)\n",
    "\n",
    "m2.set_A_global_local_matrices()\n",
    "m2.set_K_matrices()\n",
    "m2.set_B_matrices()\n",
    "m2.set_f_vectors()\n",
    "m2.set_d_vector()\n",
    "m2.set_uD_vector()\n",
    "m2.solve()\n",
    "m2.uP\n",
    "\n",
    "m2.plot_u_boundaries()\n",
    "\n",
    "plot_sparse_matrix(m2.BlambdaR)\n",
    "\n",
    "a = m2.BlambdaR"
   ]
  },
  {
   "cell_type": "code",
   "execution_count": 100,
   "metadata": {},
   "outputs": [],
   "source": [
    "def plot_displacements(u, n):\n",
    "    # Create a meshgrid for the nodes\n",
    "    x = np.linspace(0, 1, n)\n",
    "    X, Y = np.meshgrid(x, x)\n",
    "\n",
    "    # Reshape the displacements to match the meshgrid shape\n",
    "    u_mesh = u.reshape((n, n))\n",
    "\n",
    "    # Create the plot\n",
    "    fig = plt.figure()\n",
    "    ax = fig.add_subplot(111, projection='3d')\n",
    "    ax.plot_surface(X, Y, u_mesh, cmap='coolwarm')\n",
    "    ax.set_xlabel('X')\n",
    "    ax.set_ylabel('Y')\n",
    "    ax.set_zlabel('Displacement')\n",
    "\n",
    "    # Show the plot\n",
    "    plt.show()"
   ]
  },
  {
   "cell_type": "code",
   "execution_count": null,
   "metadata": {},
   "outputs": [],
   "source": []
  },
  {
   "cell_type": "code",
   "execution_count": 101,
   "metadata": {},
   "outputs": [
    {
     "ename": "NameError",
     "evalue": "name 'modify_diagonal' is not defined",
     "output_type": "error",
     "traceback": [
      "\u001b[1;31m---------------------------------------------------------------------------\u001b[0m",
      "\u001b[1;31mNameError\u001b[0m                                 Traceback (most recent call last)",
      "\u001b[1;32m~\\AppData\\Local\\Temp/ipykernel_46336/2439601064.py\u001b[0m in \u001b[0;36m<module>\u001b[1;34m\u001b[0m\n\u001b[0;32m      7\u001b[0m \u001b[0mf\u001b[0m \u001b[1;33m=\u001b[0m \u001b[0mp1\u001b[0m\u001b[1;33m.\u001b[0m\u001b[0mgenerate_load_vector\u001b[0m\u001b[1;33m(\u001b[0m\u001b[1;33m)\u001b[0m\u001b[1;33m\u001b[0m\u001b[1;33m\u001b[0m\u001b[0m\n\u001b[0;32m      8\u001b[0m \u001b[1;33m\u001b[0m\u001b[0m\n\u001b[1;32m----> 9\u001b[1;33m \u001b[0mK\u001b[0m \u001b[1;33m=\u001b[0m \u001b[0mmodify_diagonal\u001b[0m\u001b[1;33m(\u001b[0m\u001b[0mK\u001b[0m\u001b[1;33m)\u001b[0m\u001b[1;33m\u001b[0m\u001b[1;33m\u001b[0m\u001b[0m\n\u001b[0m\u001b[0;32m     10\u001b[0m \u001b[1;33m\u001b[0m\u001b[0m\n\u001b[0;32m     11\u001b[0m \u001b[0mindices\u001b[0m \u001b[1;33m=\u001b[0m \u001b[0mnp\u001b[0m\u001b[1;33m.\u001b[0m\u001b[0mr_\u001b[0m\u001b[1;33m[\u001b[0m\u001b[0mnp\u001b[0m\u001b[1;33m.\u001b[0m\u001b[0mconcatenate\u001b[0m\u001b[1;33m(\u001b[0m\u001b[1;33m(\u001b[0m\u001b[0mnp\u001b[0m\u001b[1;33m.\u001b[0m\u001b[0marange\u001b[0m\u001b[1;33m(\u001b[0m\u001b[1;36m0\u001b[0m\u001b[1;33m,\u001b[0m \u001b[1;36m4\u001b[0m\u001b[1;33m)\u001b[0m\u001b[1;33m,\u001b[0m \u001b[0mnp\u001b[0m\u001b[1;33m.\u001b[0m\u001b[0marange\u001b[0m\u001b[1;33m(\u001b[0m\u001b[1;36m7\u001b[0m\u001b[1;33m,\u001b[0m \u001b[1;36m11\u001b[0m\u001b[1;33m)\u001b[0m\u001b[1;33m,\u001b[0m \u001b[0mnp\u001b[0m\u001b[1;33m.\u001b[0m\u001b[0marange\u001b[0m\u001b[1;33m(\u001b[0m\u001b[1;36m13\u001b[0m\u001b[1;33m,\u001b[0m \u001b[1;36m17\u001b[0m\u001b[1;33m)\u001b[0m\u001b[1;33m,\u001b[0m \u001b[0mnp\u001b[0m\u001b[1;33m.\u001b[0m\u001b[0marange\u001b[0m\u001b[1;33m(\u001b[0m\u001b[1;36m19\u001b[0m\u001b[1;33m,\u001b[0m \u001b[1;36m23\u001b[0m\u001b[1;33m)\u001b[0m\u001b[1;33m)\u001b[0m\u001b[1;33m)\u001b[0m\u001b[1;33m]\u001b[0m\u001b[1;33m\u001b[0m\u001b[1;33m\u001b[0m\u001b[0m\n",
      "\u001b[1;31mNameError\u001b[0m: name 'modify_diagonal' is not defined"
     ]
    }
   ],
   "source": [
    "nx = 50\n",
    "ny = 50\n",
    "\n",
    "p1 = HeatTransferProblem(nx, ny)\n",
    "#plot_sparse_matrix(p1.generate_stiffness_matrix())\n",
    "K = p1.generate_stiffness_matrix()\n",
    "f = p1.generate_load_vector()\n",
    "\n",
    "K = modify_diagonal(K)\n",
    "\n",
    "indices = np.r_[np.concatenate((np.arange(0, 4), np.arange(7, 11), np.arange(13, 17), np.arange(19, 23)))]\n",
    "Ks = K[indices[:, None], indices]\n",
    "\n",
    "plot_sparse_matrix(Ks)\n",
    "\n",
    "uD = np.zeros(nx)\n",
    "nodesD = np.arange(0, nx*ny ,nx)\n",
    "\n",
    "K[nodesD, :] = 0 \n",
    "K[nodesD, nodesD] = 1\n",
    "f[nodesD] = uD\n",
    "\n",
    "print(f)\n",
    "\n",
    "u = np.linalg.solve(K, f)\n",
    "u_mesh = u.reshape((nx, ny))\n",
    "\n",
    "plot_sparse_matrix(u_mesh)\n",
    "print(u_mesh)\n"
   ]
  },
  {
   "cell_type": "code",
   "execution_count": null,
   "metadata": {},
   "outputs": [
    {
     "data": {
      "text/plain": [
       "array([], dtype=float64)"
      ]
     },
     "execution_count": 93,
     "metadata": {},
     "output_type": "execute_result"
    }
   ],
   "source": [
    "nx = 6\n",
    "ny = 6\n",
    "\n",
    "Nsub_x = 2\n",
    "Nsub_y = 2\n",
    "\n",
    "p2 = HeatTransferProblem(nx, ny)\n",
    "mt = SubdomainsMesh.from_problem(Nsub_x, Nsub_y, p2)\n",
    "\n",
    "mt.build_and_solve()\n",
    "mt.uR[np.abs(mt.uR - 4.45710374) <0.001]"
   ]
  },
  {
   "cell_type": "code",
   "execution_count": null,
   "metadata": {},
   "outputs": [
    {
     "data": {
      "image/png": "[encoded data removed]",
      "text/plain": [
       "<Figure size 432x288 with 2 Axes>"
      ]
     },
     "metadata": {
      "needs_background": "light"
     },
     "output_type": "display_data"
    }
   ],
   "source": [
    "Ks[Ks != 0] = 1\n",
    "plot_sparse_matrix(Ks)"
   ]
  },
  {
   "cell_type": "code",
   "execution_count": null,
   "metadata": {},
   "outputs": [
    {
     "data": {
      "text/plain": [
       "([array([[ 1.,  0.,  0.,  0.,  0.],\n",
       "         [-1.,  4., -1.,  0.,  0.],\n",
       "         [ 0., -1.,  4., -1.,  0.],\n",
       "         [ 0.,  0., -1.,  4., -1.],\n",
       "         [ 0.,  0.,  0., -1.,  4.]]),\n",
       "  array([[ 4., -1.,  0.,  0.,  0.],\n",
       "         [-1.,  4., -1.,  0.,  0.],\n",
       "         [ 0., -1.,  4., -1.,  0.],\n",
       "         [ 0.,  0., -1.,  4., -1.],\n",
       "         [ 0.,  0.,  0., -1.,  4.]]),\n",
       "  array([[ 4.,  0.,  0.,  0.,  0.],\n",
       "         [ 0.,  1.,  0.,  0.,  0.],\n",
       "         [ 0., -1.,  4., -1.,  0.],\n",
       "         [ 0.,  0., -1.,  4., -1.],\n",
       "         [ 0.,  0.,  0., -1.,  4.]]),\n",
       "  array([[ 4., -1.,  0.,  0.,  0.],\n",
       "         [-1.,  4., -1.,  0.,  0.],\n",
       "         [ 0., -1.,  4., -1.,  0.],\n",
       "         [ 0.,  0., -1.,  4., -1.],\n",
       "         [ 0.,  0.,  0., -1.,  4.]])],\n",
       " [array([0., 2., 2., 2., 2.]),\n",
       "  array([2., 2., 2., 2., 2.]),\n",
       "  array([1., 0., 4., 4., 4.]),\n",
       "  array([4., 4., 4., 4., 4.])])"
      ]
     },
     "execution_count": 96,
     "metadata": {},
     "output_type": "execute_result"
    }
   ],
   "source": [
    "def create_subdomain_matrices(K, f, num_subdomains):\n",
    "    N = int(np.sqrt(K.shape[0]))  # Size of the original mesh\n",
    "    subdomain_size = int(N // np.sqrt(num_subdomains))  # Size of each subdomain\n",
    "\n",
    "    Ks = []  # List to store subdomain stiffness matrices\n",
    "    fs = []  # List to store subdomain source vectors\n",
    "\n",
    "    for subdomain_index in range(1, num_subdomains+1):\n",
    "        subdomain_rows = range((subdomain_index-1)*subdomain_size, subdomain_index*subdomain_size)\n",
    "        subdomain_cols = range((subdomain_index-1)*subdomain_size, subdomain_index*subdomain_size)\n",
    "\n",
    "        K_subdomain = K[np.ix_(subdomain_rows, subdomain_cols)]\n",
    "        f_subdomain = f[subdomain_rows]\n",
    "\n",
    "        Ks.append(K_subdomain)\n",
    "        fs.append(f_subdomain)\n",
    "\n",
    "    return Ks, fs\n",
    "\n",
    "create_subdomain_matrices(K, f, 4)"
   ]
  }
 ],
 "metadata": {
  "kernelspec": {
   "display_name": "cla-epfl",
   "language": "python",
   "name": "python3"
  },
  "language_info": {
   "codemirror_mode": {
    "name": "ipython",
    "version": 3
   },
   "file_extension": ".py",
   "mimetype": "text/x-python",
   "name": "python",
   "nbconvert_exporter": "python",
   "pygments_lexer": "ipython3",
   "version": "3.9.16"
  },
  "orig_nbformat": 4,
  "vscode": {
   "interpreter": {
    "hash": "f17ef60e80266d10a47a00e5d7a378d77c0565d574ef5c8f5cec5dba825e9597"
   }
  }
 },
 "nbformat": 4,
 "nbformat_minor": 2
}
