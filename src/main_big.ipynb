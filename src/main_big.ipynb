{
 "cells": [
  {
   "cell_type": "code",
   "execution_count": 303,
   "metadata": {},
   "outputs": [
    {
     "name": "stdout",
     "output_type": "stream",
     "text": [
      "The autoreload extension is already loaded. To reload it, use:\n",
      "  %reload_ext autoreload\n"
     ]
    }
   ],
   "source": [
    "# Import modules\n",
    "import numpy as np\n",
    "import matplotlib.pyplot as plt\n",
    "\n",
    "# Import functions\n",
    "from common.SubdomainsMesh import SubdomainsMesh\n",
    "\n",
    "%load_ext autoreload\n",
    "%autoreload 2"
   ]
  },
  {
   "cell_type": "code",
   "execution_count": 304,
   "metadata": {},
   "outputs": [
    {
     "data": {
      "text/plain": [
       "array([0.63608991, 0.85338801, 0.53881867, 0.77145087, 0.45917653,\n",
       "       0.692688  ])"
      ]
     },
     "execution_count": 304,
     "metadata": {},
     "output_type": "execute_result"
    }
   ],
   "source": [
    "# Import data\n",
    "fs = np.genfromtxt('../data/big/localF.dat')\n",
    "Ks = np.genfromtxt('../data/big/localK.dat')\n",
    "\n",
    "left_r = np.array([192, 188, 184, 471, 207, 202, 197, 412, 90, 91, 92])\n",
    "right_r = np.array([268, 267, 266, 377, 28, 33, 38, 372, 15, 19, 23])\n",
    "bottom_r = np.array([180, 179, 178, 455, 285, 290, 295, 500, 272, 276, 280])\n",
    "top_r = np.array([104, 100, 96, 428, 119, 114, 109, 356, 9, 10, 11])\n",
    "\n",
    "bounds_r = [left_r, right_r, bottom_r, top_r]\n",
    "\n",
    "# Initial data\n",
    "# Number of subdomains\n",
    "Nsub_x = 2\n",
    "Nsub_y = 2\n",
    "\n",
    "qs_bottom_left = 460\n",
    "qs_bottom_right = 489\n",
    "qs_top_left = 417\n",
    "qs_top_right = 361\n",
    "\n",
    "qs = [qs_bottom_left, qs_bottom_right, qs_top_left, qs_top_right]\n",
    "\n",
    "rs = np.setdiff1d(np.arange(len(fs)), qs)\n",
    "\n",
    "m = SubdomainsMesh(Nsub_x, Nsub_y, Ks, fs, qs, rs, bounds_r)\n",
    "\n",
    "m.set_A_global_local_matrices()\n",
    "m.set_K_matrices()\n",
    "m.set_B_matrices()\n",
    "m.set_f_vectors()\n",
    "m.set_d_vector()\n",
    "m.set_uD_vector()\n",
    "m.solve()\n",
    "m.uP"
   ]
  },
  {
   "cell_type": "code",
   "execution_count": 305,
   "metadata": {},
   "outputs": [
    {
     "data": {
      "text/plain": [
       "array([ 1.14614987,  3.26365168,  5.13865162,  6.76365162,  8.13865162,\n",
       "        9.26365162, 10.13865162, 10.76365162, 11.13865162, 11.26365162,\n",
       "        1.14614987,  3.26365168,  5.13865162,  6.76365162,  8.13865162,\n",
       "        9.26365162, 10.13865162, 10.76365162, 11.13865162, 11.26365162,\n",
       "        1.14614987,  3.26365168,  5.13865162,  6.76365162,  8.13865162,\n",
       "        9.26365162, 10.13865162, 10.76365162, 11.13865162, 11.26365162,\n",
       "        1.14614987,  3.26365168,  5.13865162,  6.76365162,  8.13865162,\n",
       "        9.26365162, 10.13865162, 10.76365162, 11.13865162, 11.26365162,\n",
       "        1.14614987,  3.26365168,  5.13865162,  6.76365162,  8.13865162,\n",
       "        9.26365162, 10.13865162, 10.76365162, 11.13865162, 11.26365162,\n",
       "        1.14614987,  3.26365168,  5.13865162,  6.76365162,  8.13865162,\n",
       "        9.26365162, 10.13865162, 10.76365162, 11.13865162, 11.26365162,\n",
       "        1.14614987,  3.26365168,  5.13865162,  6.76365162,  8.13865162,\n",
       "        9.26365162, 10.13865162, 10.76365162, 11.13865162, 11.26365162,\n",
       "        1.14614987,  3.26365168,  5.13865162,  6.76365162,  8.13865162,\n",
       "        9.26365162, 10.13865162, 10.76365162, 11.13865162, 11.26365162,\n",
       "        1.14614987,  3.26365168,  5.13865162,  6.76365162,  8.13865162,\n",
       "        9.26365162, 10.13865162, 10.76365162, 11.13865162, 11.26365162,\n",
       "        1.14614987,  3.26365168,  5.13865162,  6.76365162,  8.13865162,\n",
       "        9.26365162, 10.13865162, 10.76365162, 11.13865162, 11.26365162,\n",
       "        1.14614987,  3.26365168,  5.13865162,  6.76365162,  8.13865162,\n",
       "        9.26365162, 10.13865162, 10.76365162, 11.13865162, 11.26365162])"
      ]
     },
     "execution_count": 305,
     "metadata": {},
     "output_type": "execute_result"
    }
   ],
   "source": [
    "# SMALL\n",
    "# Import data\n",
    "fs = np.genfromtxt('../data/big/localF_small.dat')\n",
    "Ks = np.genfromtxt('../data/big/localK_small.dat')\n",
    "\n",
    "left_r = np.array([4])\n",
    "right_r = np.array([7])\n",
    "bottom_r = np.array([1, 2])\n",
    "top_r = np.array([9, 10])\n",
    "\n",
    "bounds_r = [left_r, right_r, bottom_r, top_r]\n",
    "\n",
    "# Initial data\n",
    "# Number of subdomains\n",
    "Nsub_x = 10\n",
    "Nsub_y = 10\n",
    "\n",
    "qs_bottom_left = 0\n",
    "qs_bottom_right = 3\n",
    "qs_top_left = 8\n",
    "qs_top_right = 11\n",
    "\n",
    "qs = [qs_bottom_left, qs_bottom_right, qs_top_left, qs_top_right]\n",
    "\n",
    "rs = np.setdiff1d(np.arange(len(fs)), qs)\n",
    "\n",
    "m1 = SubdomainsMesh(Nsub_x, Nsub_y, Ks, fs, qs, rs, bounds_r)\n",
    "\n",
    "m1.set_A_global_local_matrices()\n",
    "\n",
    "m1.APq_array[0]\n",
    "\n",
    "m1.set_K_matrices()\n",
    "m1.set_B_matrices()\n",
    "m1.set_f_vectors()\n",
    "m1.set_d_vector()\n",
    "m1.set_uD_vector()\n",
    "m1.solve()\n",
    "m1.uP"
   ]
  }
 ],
 "metadata": {
  "kernelspec": {
   "display_name": "cla-epfl",
   "language": "python",
   "name": "python3"
  },
  "language_info": {
   "codemirror_mode": {
    "name": "ipython",
    "version": 3
   },
   "file_extension": ".py",
   "mimetype": "text/x-python",
   "name": "python",
   "nbconvert_exporter": "python",
   "pygments_lexer": "ipython3",
   "version": "3.9.16"
  },
  "orig_nbformat": 4,
  "vscode": {
   "interpreter": {
    "hash": "f17ef60e80266d10a47a00e5d7a378d77c0565d574ef5c8f5cec5dba825e9597"
   }
  }
 },
 "nbformat": 4,
 "nbformat_minor": 2
}
